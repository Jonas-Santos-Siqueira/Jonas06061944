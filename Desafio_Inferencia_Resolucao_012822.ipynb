{
  "nbformat": 4,
  "nbformat_minor": 0,
  "metadata": {
    "kernelspec": {
      "display_name": "Python 3",
      "language": "python",
      "name": "python3"
    },
    "language_info": {
      "codemirror_mode": {
        "name": "ipython",
        "version": 3
      },
      "file_extension": ".py",
      "mimetype": "text/x-python",
      "name": "python",
      "nbconvert_exporter": "python",
      "pygments_lexer": "ipython3",
      "version": "3.7.4"
    },
    "colab": {
      "name": "Desafio Inferencia - Resolucao_012822.ipynb",
      "provenance": [],
      "collapsed_sections": []
    }
  },
  "cells": [
    {
      "cell_type": "markdown",
      "metadata": {
        "id": "VfEKk12TH_hx"
      },
      "source": [
        "# Desafio de Inferência Tera - Resolução"
      ]
    },
    {
      "cell_type": "code",
      "metadata": {
        "colab": {
          "base_uri": "https://localhost:8080/"
        },
        "id": "PZaIxYTgIBAJ",
        "outputId": "a7bf86c7-0ac2-4fd1-f4ba-9270ac6b56a6"
      },
      "source": [
        "from google.colab import drive\n",
        "drive.mount('/content/drive')"
      ],
      "execution_count": null,
      "outputs": [
        {
          "output_type": "stream",
          "name": "stdout",
          "text": [
            "Mounted at /content/drive\n"
          ]
        }
      ]
    },
    {
      "cell_type": "markdown",
      "metadata": {
        "id": "JoT1dmVVH_hy"
      },
      "source": [
        "## Tratamento de dados"
      ]
    },
    {
      "cell_type": "markdown",
      "metadata": {
        "id": "L0QJNtdhH_hz"
      },
      "source": [
        "Importando os pacotes necessários para a análise:"
      ]
    },
    {
      "cell_type": "code",
      "metadata": {
        "id": "zjYMmXaeH_hz"
      },
      "source": [
        "import pandas as pd\n",
        "import numpy as np\n",
        "import seaborn as sns\n",
        "import matplotlib.pyplot as plt "
      ],
      "execution_count": null,
      "outputs": []
    },
    {
      "cell_type": "markdown",
      "metadata": {
        "id": "0c-bbctkH_h0"
      },
      "source": [
        "Leitura dos bancos de dados:"
      ]
    },
    {
      "cell_type": "code",
      "metadata": {
        "id": "8SZC8_9dH_h0"
      },
      "source": [
        "demo = pd.read_csv('/content/drive/My Drive/Desafio Inferencia/DEMO_PHQ.csv')\n",
        "pag_hei = pd.read_csv('/content/drive/My Drive/Desafio Inferencia/PAG_HEI.csv')"
      ],
      "execution_count": null,
      "outputs": []
    },
    {
      "cell_type": "code",
      "metadata": {
        "colab": {
          "base_uri": "https://localhost:8080/"
        },
        "id": "CdiZNhugH_h0",
        "outputId": "7d672f7b-719d-4856-a4f7-20ce1fac0cb3"
      },
      "source": [
        "demo.info() # 5334 observações de adultos"
      ],
      "execution_count": null,
      "outputs": [
        {
          "output_type": "stream",
          "name": "stdout",
          "text": [
            "<class 'pandas.core.frame.DataFrame'>\n",
            "RangeIndex: 5334 entries, 0 to 5333\n",
            "Data columns (total 15 columns):\n",
            " #   Column    Non-Null Count  Dtype  \n",
            "---  ------    --------------  -----  \n",
            " 0   SEQN      5334 non-null   int64  \n",
            " 1   DPQ010    4836 non-null   float64\n",
            " 2   DPQ020    4836 non-null   float64\n",
            " 3   DPQ030    4836 non-null   float64\n",
            " 4   DPQ040    4836 non-null   float64\n",
            " 5   DPQ050    4836 non-null   float64\n",
            " 6   DPQ060    4836 non-null   float64\n",
            " 7   DPQ070    4836 non-null   float64\n",
            " 8   DPQ080    4836 non-null   float64\n",
            " 9   DPQ090    4836 non-null   float64\n",
            " 10  RIAGENDR  5334 non-null   int64  \n",
            " 11  RIDAGEYR  5334 non-null   int64  \n",
            " 12  RIDRETH1  5334 non-null   int64  \n",
            " 13  DMDEDUC   5334 non-null   int64  \n",
            " 14  INDFMINC  5287 non-null   float64\n",
            "dtypes: float64(10), int64(5)\n",
            "memory usage: 625.2 KB\n"
          ]
        }
      ]
    },
    {
      "cell_type": "code",
      "metadata": {
        "id": "x1VdZTJTH_h0",
        "colab": {
          "base_uri": "https://localhost:8080/",
          "height": 228
        },
        "outputId": "9d7014b2-f683-454c-8249-f5637c498105"
      },
      "source": [
        "demo.head()"
      ],
      "execution_count": null,
      "outputs": [
        {
          "output_type": "execute_result",
          "data": {
            "text/html": [
              "\n",
              "  <div id=\"df-8c2d1335-307a-40f5-9a8a-b780b1a4e460\">\n",
              "    <div class=\"colab-df-container\">\n",
              "      <div>\n",
              "<style scoped>\n",
              "    .dataframe tbody tr th:only-of-type {\n",
              "        vertical-align: middle;\n",
              "    }\n",
              "\n",
              "    .dataframe tbody tr th {\n",
              "        vertical-align: top;\n",
              "    }\n",
              "\n",
              "    .dataframe thead th {\n",
              "        text-align: right;\n",
              "    }\n",
              "</style>\n",
              "<table border=\"1\" class=\"dataframe\">\n",
              "  <thead>\n",
              "    <tr style=\"text-align: right;\">\n",
              "      <th></th>\n",
              "      <th>SEQN</th>\n",
              "      <th>DPQ010</th>\n",
              "      <th>DPQ020</th>\n",
              "      <th>DPQ030</th>\n",
              "      <th>DPQ040</th>\n",
              "      <th>DPQ050</th>\n",
              "      <th>DPQ060</th>\n",
              "      <th>DPQ070</th>\n",
              "      <th>DPQ080</th>\n",
              "      <th>DPQ090</th>\n",
              "      <th>RIAGENDR</th>\n",
              "      <th>RIDAGEYR</th>\n",
              "      <th>RIDRETH1</th>\n",
              "      <th>DMDEDUC</th>\n",
              "      <th>INDFMINC</th>\n",
              "    </tr>\n",
              "  </thead>\n",
              "  <tbody>\n",
              "    <tr>\n",
              "      <th>0</th>\n",
              "      <td>31130</td>\n",
              "      <td>NaN</td>\n",
              "      <td>NaN</td>\n",
              "      <td>NaN</td>\n",
              "      <td>NaN</td>\n",
              "      <td>NaN</td>\n",
              "      <td>NaN</td>\n",
              "      <td>NaN</td>\n",
              "      <td>NaN</td>\n",
              "      <td>NaN</td>\n",
              "      <td>2</td>\n",
              "      <td>85</td>\n",
              "      <td>3</td>\n",
              "      <td>4</td>\n",
              "      <td>4.0</td>\n",
              "    </tr>\n",
              "    <tr>\n",
              "      <th>1</th>\n",
              "      <td>31131</td>\n",
              "      <td>0.0</td>\n",
              "      <td>0.0</td>\n",
              "      <td>0.0</td>\n",
              "      <td>0.0</td>\n",
              "      <td>0.0</td>\n",
              "      <td>0.0</td>\n",
              "      <td>0.0</td>\n",
              "      <td>0.0</td>\n",
              "      <td>0.0</td>\n",
              "      <td>2</td>\n",
              "      <td>44</td>\n",
              "      <td>4</td>\n",
              "      <td>4</td>\n",
              "      <td>11.0</td>\n",
              "    </tr>\n",
              "    <tr>\n",
              "      <th>2</th>\n",
              "      <td>31132</td>\n",
              "      <td>0.0</td>\n",
              "      <td>0.0</td>\n",
              "      <td>0.0</td>\n",
              "      <td>0.0</td>\n",
              "      <td>0.0</td>\n",
              "      <td>0.0</td>\n",
              "      <td>0.0</td>\n",
              "      <td>0.0</td>\n",
              "      <td>0.0</td>\n",
              "      <td>1</td>\n",
              "      <td>70</td>\n",
              "      <td>3</td>\n",
              "      <td>5</td>\n",
              "      <td>11.0</td>\n",
              "    </tr>\n",
              "    <tr>\n",
              "      <th>3</th>\n",
              "      <td>31134</td>\n",
              "      <td>0.0</td>\n",
              "      <td>0.0</td>\n",
              "      <td>0.0</td>\n",
              "      <td>0.0</td>\n",
              "      <td>0.0</td>\n",
              "      <td>0.0</td>\n",
              "      <td>0.0</td>\n",
              "      <td>0.0</td>\n",
              "      <td>0.0</td>\n",
              "      <td>1</td>\n",
              "      <td>73</td>\n",
              "      <td>3</td>\n",
              "      <td>3</td>\n",
              "      <td>12.0</td>\n",
              "    </tr>\n",
              "    <tr>\n",
              "      <th>4</th>\n",
              "      <td>31139</td>\n",
              "      <td>0.0</td>\n",
              "      <td>0.0</td>\n",
              "      <td>0.0</td>\n",
              "      <td>0.0</td>\n",
              "      <td>3.0</td>\n",
              "      <td>1.0</td>\n",
              "      <td>0.0</td>\n",
              "      <td>0.0</td>\n",
              "      <td>0.0</td>\n",
              "      <td>2</td>\n",
              "      <td>18</td>\n",
              "      <td>2</td>\n",
              "      <td>3</td>\n",
              "      <td>11.0</td>\n",
              "    </tr>\n",
              "  </tbody>\n",
              "</table>\n",
              "</div>\n",
              "      <button class=\"colab-df-convert\" onclick=\"convertToInteractive('df-8c2d1335-307a-40f5-9a8a-b780b1a4e460')\"\n",
              "              title=\"Convert this dataframe to an interactive table.\"\n",
              "              style=\"display:none;\">\n",
              "        \n",
              "  <svg xmlns=\"http://www.w3.org/2000/svg\" height=\"24px\"viewBox=\"0 0 24 24\"\n",
              "       width=\"24px\">\n",
              "    <path d=\"M0 0h24v24H0V0z\" fill=\"none\"/>\n",
              "    <path d=\"M18.56 5.44l.94 2.06.94-2.06 2.06-.94-2.06-.94-.94-2.06-.94 2.06-2.06.94zm-11 1L8.5 8.5l.94-2.06 2.06-.94-2.06-.94L8.5 2.5l-.94 2.06-2.06.94zm10 10l.94 2.06.94-2.06 2.06-.94-2.06-.94-.94-2.06-.94 2.06-2.06.94z\"/><path d=\"M17.41 7.96l-1.37-1.37c-.4-.4-.92-.59-1.43-.59-.52 0-1.04.2-1.43.59L10.3 9.45l-7.72 7.72c-.78.78-.78 2.05 0 2.83L4 21.41c.39.39.9.59 1.41.59.51 0 1.02-.2 1.41-.59l7.78-7.78 2.81-2.81c.8-.78.8-2.07 0-2.86zM5.41 20L4 18.59l7.72-7.72 1.47 1.35L5.41 20z\"/>\n",
              "  </svg>\n",
              "      </button>\n",
              "      \n",
              "  <style>\n",
              "    .colab-df-container {\n",
              "      display:flex;\n",
              "      flex-wrap:wrap;\n",
              "      gap: 12px;\n",
              "    }\n",
              "\n",
              "    .colab-df-convert {\n",
              "      background-color: #E8F0FE;\n",
              "      border: none;\n",
              "      border-radius: 50%;\n",
              "      cursor: pointer;\n",
              "      display: none;\n",
              "      fill: #1967D2;\n",
              "      height: 32px;\n",
              "      padding: 0 0 0 0;\n",
              "      width: 32px;\n",
              "    }\n",
              "\n",
              "    .colab-df-convert:hover {\n",
              "      background-color: #E2EBFA;\n",
              "      box-shadow: 0px 1px 2px rgba(60, 64, 67, 0.3), 0px 1px 3px 1px rgba(60, 64, 67, 0.15);\n",
              "      fill: #174EA6;\n",
              "    }\n",
              "\n",
              "    [theme=dark] .colab-df-convert {\n",
              "      background-color: #3B4455;\n",
              "      fill: #D2E3FC;\n",
              "    }\n",
              "\n",
              "    [theme=dark] .colab-df-convert:hover {\n",
              "      background-color: #434B5C;\n",
              "      box-shadow: 0px 1px 3px 1px rgba(0, 0, 0, 0.15);\n",
              "      filter: drop-shadow(0px 1px 2px rgba(0, 0, 0, 0.3));\n",
              "      fill: #FFFFFF;\n",
              "    }\n",
              "  </style>\n",
              "\n",
              "      <script>\n",
              "        const buttonEl =\n",
              "          document.querySelector('#df-8c2d1335-307a-40f5-9a8a-b780b1a4e460 button.colab-df-convert');\n",
              "        buttonEl.style.display =\n",
              "          google.colab.kernel.accessAllowed ? 'block' : 'none';\n",
              "\n",
              "        async function convertToInteractive(key) {\n",
              "          const element = document.querySelector('#df-8c2d1335-307a-40f5-9a8a-b780b1a4e460');\n",
              "          const dataTable =\n",
              "            await google.colab.kernel.invokeFunction('convertToInteractive',\n",
              "                                                     [key], {});\n",
              "          if (!dataTable) return;\n",
              "\n",
              "          const docLinkHtml = 'Like what you see? Visit the ' +\n",
              "            '<a target=\"_blank\" href=https://colab.research.google.com/notebooks/data_table.ipynb>data table notebook</a>'\n",
              "            + ' to learn more about interactive tables.';\n",
              "          element.innerHTML = '';\n",
              "          dataTable['output_type'] = 'display_data';\n",
              "          await google.colab.output.renderOutput(dataTable, element);\n",
              "          const docLink = document.createElement('div');\n",
              "          docLink.innerHTML = docLinkHtml;\n",
              "          element.appendChild(docLink);\n",
              "        }\n",
              "      </script>\n",
              "    </div>\n",
              "  </div>\n",
              "  "
            ],
            "text/plain": [
              "    SEQN  DPQ010  DPQ020  DPQ030  ...  RIDAGEYR  RIDRETH1  DMDEDUC  INDFMINC\n",
              "0  31130     NaN     NaN     NaN  ...        85         3        4       4.0\n",
              "1  31131     0.0     0.0     0.0  ...        44         4        4      11.0\n",
              "2  31132     0.0     0.0     0.0  ...        70         3        5      11.0\n",
              "3  31134     0.0     0.0     0.0  ...        73         3        3      12.0\n",
              "4  31139     0.0     0.0     0.0  ...        18         2        3      11.0\n",
              "\n",
              "[5 rows x 15 columns]"
            ]
          },
          "metadata": {},
          "execution_count": 5
        }
      ]
    },
    {
      "cell_type": "code",
      "metadata": {
        "colab": {
          "base_uri": "https://localhost:8080/"
        },
        "id": "qCrw3yP2H_h1",
        "outputId": "61fb5476-7463-4c59-d7ce-378652b3ad68"
      },
      "source": [
        "pag_hei.info() # 9424 observações de crianças e adultos"
      ],
      "execution_count": null,
      "outputs": [
        {
          "output_type": "stream",
          "name": "stdout",
          "text": [
            "<class 'pandas.core.frame.DataFrame'>\n",
            "RangeIndex: 9424 entries, 0 to 9423\n",
            "Data columns (total 17 columns):\n",
            " #   Column                    Non-Null Count  Dtype  \n",
            "---  ------                    --------------  -----  \n",
            " 0   SEQN                      9424 non-null   int64  \n",
            " 1   PAG_MINW                  7150 non-null   float64\n",
            " 2   ADHERENCE                 7150 non-null   float64\n",
            " 3   HEI2015C1_TOTALVEG        8549 non-null   float64\n",
            " 4   HEI2015C2_GREEN_AND_BEAN  8549 non-null   float64\n",
            " 5   HEI2015C3_TOTALFRUIT      8549 non-null   float64\n",
            " 6   HEI2015C4_WHOLEFRUIT      8549 non-null   float64\n",
            " 7   HEI2015C5_WHOLEGRAIN      8549 non-null   float64\n",
            " 8   HEI2015C6_TOTALDAIRY      8549 non-null   float64\n",
            " 9   HEI2015C7_TOTPROT         8549 non-null   float64\n",
            " 10  HEI2015C8_SEAPLANT_PROT   8549 non-null   float64\n",
            " 11  HEI2015C9_FATTYACID       8549 non-null   float64\n",
            " 12  HEI2015C10_SODIUM         8549 non-null   float64\n",
            " 13  HEI2015C11_REFINEDGRAIN   8549 non-null   float64\n",
            " 14  HEI2015C12_SFAT           8549 non-null   float64\n",
            " 15  HEI2015C13_ADDSUG         8549 non-null   float64\n",
            " 16  HEI2015_TOTAL_SCORE       8549 non-null   float64\n",
            "dtypes: float64(16), int64(1)\n",
            "memory usage: 1.2 MB\n"
          ]
        }
      ]
    },
    {
      "cell_type": "markdown",
      "metadata": {
        "id": "_Di9kXYpH_h1"
      },
      "source": [
        "Combinando o banco de dados"
      ]
    },
    {
      "cell_type": "code",
      "metadata": {
        "colab": {
          "base_uri": "https://localhost:8080/"
        },
        "id": "7xgdTd37H_h1",
        "outputId": "bf4b6423-4c8e-47ef-a9fb-2f8538a26214"
      },
      "source": [
        "db = demo.merge(pag_hei, on = 'SEQN', how = 'left')\n",
        "db.info()"
      ],
      "execution_count": null,
      "outputs": [
        {
          "output_type": "stream",
          "name": "stdout",
          "text": [
            "<class 'pandas.core.frame.DataFrame'>\n",
            "Int64Index: 5334 entries, 0 to 5333\n",
            "Data columns (total 31 columns):\n",
            " #   Column                    Non-Null Count  Dtype  \n",
            "---  ------                    --------------  -----  \n",
            " 0   SEQN                      5334 non-null   int64  \n",
            " 1   DPQ010                    4836 non-null   float64\n",
            " 2   DPQ020                    4836 non-null   float64\n",
            " 3   DPQ030                    4836 non-null   float64\n",
            " 4   DPQ040                    4836 non-null   float64\n",
            " 5   DPQ050                    4836 non-null   float64\n",
            " 6   DPQ060                    4836 non-null   float64\n",
            " 7   DPQ070                    4836 non-null   float64\n",
            " 8   DPQ080                    4836 non-null   float64\n",
            " 9   DPQ090                    4836 non-null   float64\n",
            " 10  RIAGENDR                  5334 non-null   int64  \n",
            " 11  RIDAGEYR                  5334 non-null   int64  \n",
            " 12  RIDRETH1                  5334 non-null   int64  \n",
            " 13  DMDEDUC                   5334 non-null   int64  \n",
            " 14  INDFMINC                  5287 non-null   float64\n",
            " 15  PAG_MINW                  5334 non-null   float64\n",
            " 16  ADHERENCE                 5334 non-null   float64\n",
            " 17  HEI2015C1_TOTALVEG        5060 non-null   float64\n",
            " 18  HEI2015C2_GREEN_AND_BEAN  5060 non-null   float64\n",
            " 19  HEI2015C3_TOTALFRUIT      5060 non-null   float64\n",
            " 20  HEI2015C4_WHOLEFRUIT      5060 non-null   float64\n",
            " 21  HEI2015C5_WHOLEGRAIN      5060 non-null   float64\n",
            " 22  HEI2015C6_TOTALDAIRY      5060 non-null   float64\n",
            " 23  HEI2015C7_TOTPROT         5060 non-null   float64\n",
            " 24  HEI2015C8_SEAPLANT_PROT   5060 non-null   float64\n",
            " 25  HEI2015C9_FATTYACID       5060 non-null   float64\n",
            " 26  HEI2015C10_SODIUM         5060 non-null   float64\n",
            " 27  HEI2015C11_REFINEDGRAIN   5060 non-null   float64\n",
            " 28  HEI2015C12_SFAT           5060 non-null   float64\n",
            " 29  HEI2015C13_ADDSUG         5060 non-null   float64\n",
            " 30  HEI2015_TOTAL_SCORE       5060 non-null   float64\n",
            "dtypes: float64(26), int64(5)\n",
            "memory usage: 1.3 MB\n"
          ]
        }
      ]
    },
    {
      "cell_type": "markdown",
      "metadata": {
        "id": "u7ZdLMTNH_h1"
      },
      "source": [
        "### Tratamento das variáveis"
      ]
    },
    {
      "cell_type": "markdown",
      "metadata": {
        "id": "nDpklA7ZH_h1"
      },
      "source": [
        "Avaliando o percentual\n",
        " de casos faltantes (missing):"
      ]
    },
    {
      "cell_type": "code",
      "metadata": {
        "colab": {
          "base_uri": "https://localhost:8080/"
        },
        "id": "2no8YI-sH_h2",
        "outputId": "6b283ea1-ff04-43ca-d735-1f6884fddf4c"
      },
      "source": [
        "db.isnull().mean().round(4)*100"
      ],
      "execution_count": null,
      "outputs": [
        {
          "output_type": "execute_result",
          "data": {
            "text/plain": [
              "SEQN                        0.00\n",
              "DPQ010                      9.34\n",
              "DPQ020                      9.34\n",
              "DPQ030                      9.34\n",
              "DPQ040                      9.34\n",
              "DPQ050                      9.34\n",
              "DPQ060                      9.34\n",
              "DPQ070                      9.34\n",
              "DPQ080                      9.34\n",
              "DPQ090                      9.34\n",
              "RIAGENDR                    0.00\n",
              "RIDAGEYR                    0.00\n",
              "RIDRETH1                    0.00\n",
              "DMDEDUC                     0.00\n",
              "INDFMINC                    0.88\n",
              "PAG_MINW                    0.00\n",
              "ADHERENCE                   0.00\n",
              "HEI2015C1_TOTALVEG          5.14\n",
              "HEI2015C2_GREEN_AND_BEAN    5.14\n",
              "HEI2015C3_TOTALFRUIT        5.14\n",
              "HEI2015C4_WHOLEFRUIT        5.14\n",
              "HEI2015C5_WHOLEGRAIN        5.14\n",
              "HEI2015C6_TOTALDAIRY        5.14\n",
              "HEI2015C7_TOTPROT           5.14\n",
              "HEI2015C8_SEAPLANT_PROT     5.14\n",
              "HEI2015C9_FATTYACID         5.14\n",
              "HEI2015C10_SODIUM           5.14\n",
              "HEI2015C11_REFINEDGRAIN     5.14\n",
              "HEI2015C12_SFAT             5.14\n",
              "HEI2015C13_ADDSUG           5.14\n",
              "HEI2015_TOTAL_SCORE         5.14\n",
              "dtype: float64"
            ]
          },
          "metadata": {},
          "execution_count": 8
        }
      ]
    },
    {
      "cell_type": "markdown",
      "metadata": {
        "id": "a2QK1lczH_h6"
      },
      "source": [
        "Medidas resumo das variáveis quantitativas:"
      ]
    },
    {
      "cell_type": "code",
      "metadata": {
        "id": "0dJzGXzsH_h6",
        "colab": {
          "base_uri": "https://localhost:8080/",
          "height": 430
        },
        "outputId": "c63af518-85c7-4324-a355-8999f520d751"
      },
      "source": [
        "db.drop(columns=['SEQN']).describe(percentiles = [.25, .5, .75, .95, .99]).round(2)"
      ],
      "execution_count": null,
      "outputs": [
        {
          "output_type": "execute_result",
          "data": {
            "text/html": [
              "\n",
              "  <div id=\"df-2cfa36e4-79e9-4577-8cc8-9fcee7afd058\">\n",
              "    <div class=\"colab-df-container\">\n",
              "      <div>\n",
              "<style scoped>\n",
              "    .dataframe tbody tr th:only-of-type {\n",
              "        vertical-align: middle;\n",
              "    }\n",
              "\n",
              "    .dataframe tbody tr th {\n",
              "        vertical-align: top;\n",
              "    }\n",
              "\n",
              "    .dataframe thead th {\n",
              "        text-align: right;\n",
              "    }\n",
              "</style>\n",
              "<table border=\"1\" class=\"dataframe\">\n",
              "  <thead>\n",
              "    <tr style=\"text-align: right;\">\n",
              "      <th></th>\n",
              "      <th>DPQ010</th>\n",
              "      <th>DPQ020</th>\n",
              "      <th>DPQ030</th>\n",
              "      <th>DPQ040</th>\n",
              "      <th>DPQ050</th>\n",
              "      <th>DPQ060</th>\n",
              "      <th>DPQ070</th>\n",
              "      <th>DPQ080</th>\n",
              "      <th>DPQ090</th>\n",
              "      <th>RIAGENDR</th>\n",
              "      <th>RIDAGEYR</th>\n",
              "      <th>RIDRETH1</th>\n",
              "      <th>DMDEDUC</th>\n",
              "      <th>INDFMINC</th>\n",
              "      <th>PAG_MINW</th>\n",
              "      <th>ADHERENCE</th>\n",
              "      <th>HEI2015C1_TOTALVEG</th>\n",
              "      <th>HEI2015C2_GREEN_AND_BEAN</th>\n",
              "      <th>HEI2015C3_TOTALFRUIT</th>\n",
              "      <th>HEI2015C4_WHOLEFRUIT</th>\n",
              "      <th>HEI2015C5_WHOLEGRAIN</th>\n",
              "      <th>HEI2015C6_TOTALDAIRY</th>\n",
              "      <th>HEI2015C7_TOTPROT</th>\n",
              "      <th>HEI2015C8_SEAPLANT_PROT</th>\n",
              "      <th>HEI2015C9_FATTYACID</th>\n",
              "      <th>HEI2015C10_SODIUM</th>\n",
              "      <th>HEI2015C11_REFINEDGRAIN</th>\n",
              "      <th>HEI2015C12_SFAT</th>\n",
              "      <th>HEI2015C13_ADDSUG</th>\n",
              "      <th>HEI2015_TOTAL_SCORE</th>\n",
              "    </tr>\n",
              "  </thead>\n",
              "  <tbody>\n",
              "    <tr>\n",
              "      <th>count</th>\n",
              "      <td>4836.00</td>\n",
              "      <td>4836.00</td>\n",
              "      <td>4836.00</td>\n",
              "      <td>4836.00</td>\n",
              "      <td>4836.00</td>\n",
              "      <td>4836.00</td>\n",
              "      <td>4836.00</td>\n",
              "      <td>4836.00</td>\n",
              "      <td>4836.00</td>\n",
              "      <td>5334.00</td>\n",
              "      <td>5334.00</td>\n",
              "      <td>5334.00</td>\n",
              "      <td>5334.00</td>\n",
              "      <td>5287.00</td>\n",
              "      <td>5334.00</td>\n",
              "      <td>5334.00</td>\n",
              "      <td>5060.00</td>\n",
              "      <td>5060.00</td>\n",
              "      <td>5060.00</td>\n",
              "      <td>5060.00</td>\n",
              "      <td>5060.00</td>\n",
              "      <td>5060.00</td>\n",
              "      <td>5060.00</td>\n",
              "      <td>5060.00</td>\n",
              "      <td>5060.00</td>\n",
              "      <td>5060.00</td>\n",
              "      <td>5060.00</td>\n",
              "      <td>5060.00</td>\n",
              "      <td>5060.00</td>\n",
              "      <td>5060.00</td>\n",
              "    </tr>\n",
              "    <tr>\n",
              "      <th>mean</th>\n",
              "      <td>0.31</td>\n",
              "      <td>0.31</td>\n",
              "      <td>0.55</td>\n",
              "      <td>0.72</td>\n",
              "      <td>0.32</td>\n",
              "      <td>0.21</td>\n",
              "      <td>0.23</td>\n",
              "      <td>0.15</td>\n",
              "      <td>0.05</td>\n",
              "      <td>1.52</td>\n",
              "      <td>45.09</td>\n",
              "      <td>2.87</td>\n",
              "      <td>3.23</td>\n",
              "      <td>8.74</td>\n",
              "      <td>471.77</td>\n",
              "      <td>1.98</td>\n",
              "      <td>3.20</td>\n",
              "      <td>1.81</td>\n",
              "      <td>2.49</td>\n",
              "      <td>2.36</td>\n",
              "      <td>1.76</td>\n",
              "      <td>3.76</td>\n",
              "      <td>4.43</td>\n",
              "      <td>2.59</td>\n",
              "      <td>4.71</td>\n",
              "      <td>4.76</td>\n",
              "      <td>5.80</td>\n",
              "      <td>6.07</td>\n",
              "      <td>6.22</td>\n",
              "      <td>49.97</td>\n",
              "    </tr>\n",
              "    <tr>\n",
              "      <th>std</th>\n",
              "      <td>0.76</td>\n",
              "      <td>0.71</td>\n",
              "      <td>0.93</td>\n",
              "      <td>0.91</td>\n",
              "      <td>0.74</td>\n",
              "      <td>0.62</td>\n",
              "      <td>0.64</td>\n",
              "      <td>0.59</td>\n",
              "      <td>0.33</td>\n",
              "      <td>0.50</td>\n",
              "      <td>20.15</td>\n",
              "      <td>1.13</td>\n",
              "      <td>1.27</td>\n",
              "      <td>12.78</td>\n",
              "      <td>780.35</td>\n",
              "      <td>0.92</td>\n",
              "      <td>1.47</td>\n",
              "      <td>2.14</td>\n",
              "      <td>1.95</td>\n",
              "      <td>2.17</td>\n",
              "      <td>1.92</td>\n",
              "      <td>1.61</td>\n",
              "      <td>1.01</td>\n",
              "      <td>2.17</td>\n",
              "      <td>3.24</td>\n",
              "      <td>3.42</td>\n",
              "      <td>3.50</td>\n",
              "      <td>3.18</td>\n",
              "      <td>3.33</td>\n",
              "      <td>12.32</td>\n",
              "    </tr>\n",
              "    <tr>\n",
              "      <th>min</th>\n",
              "      <td>0.00</td>\n",
              "      <td>0.00</td>\n",
              "      <td>0.00</td>\n",
              "      <td>0.00</td>\n",
              "      <td>0.00</td>\n",
              "      <td>0.00</td>\n",
              "      <td>0.00</td>\n",
              "      <td>0.00</td>\n",
              "      <td>0.00</td>\n",
              "      <td>1.00</td>\n",
              "      <td>18.00</td>\n",
              "      <td>1.00</td>\n",
              "      <td>1.00</td>\n",
              "      <td>1.00</td>\n",
              "      <td>0.00</td>\n",
              "      <td>1.00</td>\n",
              "      <td>0.00</td>\n",
              "      <td>0.00</td>\n",
              "      <td>0.00</td>\n",
              "      <td>0.00</td>\n",
              "      <td>0.00</td>\n",
              "      <td>0.00</td>\n",
              "      <td>0.00</td>\n",
              "      <td>0.00</td>\n",
              "      <td>0.00</td>\n",
              "      <td>0.00</td>\n",
              "      <td>0.00</td>\n",
              "      <td>0.00</td>\n",
              "      <td>0.00</td>\n",
              "      <td>16.06</td>\n",
              "    </tr>\n",
              "    <tr>\n",
              "      <th>25%</th>\n",
              "      <td>0.00</td>\n",
              "      <td>0.00</td>\n",
              "      <td>0.00</td>\n",
              "      <td>0.00</td>\n",
              "      <td>0.00</td>\n",
              "      <td>0.00</td>\n",
              "      <td>0.00</td>\n",
              "      <td>0.00</td>\n",
              "      <td>0.00</td>\n",
              "      <td>1.00</td>\n",
              "      <td>27.00</td>\n",
              "      <td>3.00</td>\n",
              "      <td>2.00</td>\n",
              "      <td>4.00</td>\n",
              "      <td>35.00</td>\n",
              "      <td>1.00</td>\n",
              "      <td>2.06</td>\n",
              "      <td>0.00</td>\n",
              "      <td>0.45</td>\n",
              "      <td>0.00</td>\n",
              "      <td>0.00</td>\n",
              "      <td>2.59</td>\n",
              "      <td>4.17</td>\n",
              "      <td>0.00</td>\n",
              "      <td>2.02</td>\n",
              "      <td>1.59</td>\n",
              "      <td>2.93</td>\n",
              "      <td>3.70</td>\n",
              "      <td>3.72</td>\n",
              "      <td>41.03</td>\n",
              "    </tr>\n",
              "    <tr>\n",
              "      <th>50%</th>\n",
              "      <td>0.00</td>\n",
              "      <td>0.00</td>\n",
              "      <td>0.00</td>\n",
              "      <td>0.00</td>\n",
              "      <td>0.00</td>\n",
              "      <td>0.00</td>\n",
              "      <td>0.00</td>\n",
              "      <td>0.00</td>\n",
              "      <td>0.00</td>\n",
              "      <td>2.00</td>\n",
              "      <td>43.00</td>\n",
              "      <td>3.00</td>\n",
              "      <td>3.00</td>\n",
              "      <td>7.00</td>\n",
              "      <td>210.00</td>\n",
              "      <td>2.00</td>\n",
              "      <td>3.22</td>\n",
              "      <td>0.06</td>\n",
              "      <td>2.32</td>\n",
              "      <td>2.08</td>\n",
              "      <td>1.03</td>\n",
              "      <td>4.94</td>\n",
              "      <td>5.00</td>\n",
              "      <td>2.59</td>\n",
              "      <td>4.43</td>\n",
              "      <td>4.83</td>\n",
              "      <td>6.23</td>\n",
              "      <td>6.41</td>\n",
              "      <td>6.86</td>\n",
              "      <td>49.51</td>\n",
              "    </tr>\n",
              "    <tr>\n",
              "      <th>75%</th>\n",
              "      <td>0.00</td>\n",
              "      <td>0.00</td>\n",
              "      <td>1.00</td>\n",
              "      <td>1.00</td>\n",
              "      <td>0.00</td>\n",
              "      <td>0.00</td>\n",
              "      <td>0.00</td>\n",
              "      <td>0.00</td>\n",
              "      <td>0.00</td>\n",
              "      <td>2.00</td>\n",
              "      <td>62.00</td>\n",
              "      <td>4.00</td>\n",
              "      <td>4.00</td>\n",
              "      <td>10.00</td>\n",
              "      <td>568.93</td>\n",
              "      <td>3.00</td>\n",
              "      <td>4.83</td>\n",
              "      <td>4.50</td>\n",
              "      <td>4.94</td>\n",
              "      <td>5.00</td>\n",
              "      <td>3.41</td>\n",
              "      <td>5.00</td>\n",
              "      <td>5.00</td>\n",
              "      <td>5.00</td>\n",
              "      <td>7.27</td>\n",
              "      <td>7.65</td>\n",
              "      <td>9.25</td>\n",
              "      <td>9.00</td>\n",
              "      <td>9.45</td>\n",
              "      <td>58.17</td>\n",
              "    </tr>\n",
              "    <tr>\n",
              "      <th>95%</th>\n",
              "      <td>2.00</td>\n",
              "      <td>2.00</td>\n",
              "      <td>3.00</td>\n",
              "      <td>3.00</td>\n",
              "      <td>2.00</td>\n",
              "      <td>1.00</td>\n",
              "      <td>1.00</td>\n",
              "      <td>1.00</td>\n",
              "      <td>0.00</td>\n",
              "      <td>2.00</td>\n",
              "      <td>81.00</td>\n",
              "      <td>4.00</td>\n",
              "      <td>5.00</td>\n",
              "      <td>11.00</td>\n",
              "      <td>1863.05</td>\n",
              "      <td>3.00</td>\n",
              "      <td>5.00</td>\n",
              "      <td>5.00</td>\n",
              "      <td>5.00</td>\n",
              "      <td>5.00</td>\n",
              "      <td>5.00</td>\n",
              "      <td>5.00</td>\n",
              "      <td>5.00</td>\n",
              "      <td>5.00</td>\n",
              "      <td>10.00</td>\n",
              "      <td>10.00</td>\n",
              "      <td>10.00</td>\n",
              "      <td>10.00</td>\n",
              "      <td>10.00</td>\n",
              "      <td>71.19</td>\n",
              "    </tr>\n",
              "    <tr>\n",
              "      <th>99%</th>\n",
              "      <td>3.00</td>\n",
              "      <td>3.00</td>\n",
              "      <td>3.00</td>\n",
              "      <td>3.00</td>\n",
              "      <td>3.00</td>\n",
              "      <td>3.00</td>\n",
              "      <td>3.00</td>\n",
              "      <td>3.00</td>\n",
              "      <td>1.00</td>\n",
              "      <td>2.00</td>\n",
              "      <td>85.00</td>\n",
              "      <td>5.00</td>\n",
              "      <td>5.00</td>\n",
              "      <td>99.00</td>\n",
              "      <td>3672.06</td>\n",
              "      <td>3.00</td>\n",
              "      <td>5.00</td>\n",
              "      <td>5.00</td>\n",
              "      <td>5.00</td>\n",
              "      <td>5.00</td>\n",
              "      <td>5.00</td>\n",
              "      <td>5.00</td>\n",
              "      <td>5.00</td>\n",
              "      <td>5.00</td>\n",
              "      <td>10.00</td>\n",
              "      <td>10.00</td>\n",
              "      <td>10.00</td>\n",
              "      <td>10.00</td>\n",
              "      <td>10.00</td>\n",
              "      <td>79.86</td>\n",
              "    </tr>\n",
              "    <tr>\n",
              "      <th>max</th>\n",
              "      <td>9.00</td>\n",
              "      <td>9.00</td>\n",
              "      <td>9.00</td>\n",
              "      <td>9.00</td>\n",
              "      <td>9.00</td>\n",
              "      <td>9.00</td>\n",
              "      <td>9.00</td>\n",
              "      <td>9.00</td>\n",
              "      <td>9.00</td>\n",
              "      <td>2.00</td>\n",
              "      <td>85.00</td>\n",
              "      <td>5.00</td>\n",
              "      <td>9.00</td>\n",
              "      <td>99.00</td>\n",
              "      <td>10777.83</td>\n",
              "      <td>3.00</td>\n",
              "      <td>5.00</td>\n",
              "      <td>5.00</td>\n",
              "      <td>5.00</td>\n",
              "      <td>5.00</td>\n",
              "      <td>5.00</td>\n",
              "      <td>5.00</td>\n",
              "      <td>5.00</td>\n",
              "      <td>5.00</td>\n",
              "      <td>10.00</td>\n",
              "      <td>10.00</td>\n",
              "      <td>10.00</td>\n",
              "      <td>10.00</td>\n",
              "      <td>10.00</td>\n",
              "      <td>89.53</td>\n",
              "    </tr>\n",
              "  </tbody>\n",
              "</table>\n",
              "</div>\n",
              "      <button class=\"colab-df-convert\" onclick=\"convertToInteractive('df-2cfa36e4-79e9-4577-8cc8-9fcee7afd058')\"\n",
              "              title=\"Convert this dataframe to an interactive table.\"\n",
              "              style=\"display:none;\">\n",
              "        \n",
              "  <svg xmlns=\"http://www.w3.org/2000/svg\" height=\"24px\"viewBox=\"0 0 24 24\"\n",
              "       width=\"24px\">\n",
              "    <path d=\"M0 0h24v24H0V0z\" fill=\"none\"/>\n",
              "    <path d=\"M18.56 5.44l.94 2.06.94-2.06 2.06-.94-2.06-.94-.94-2.06-.94 2.06-2.06.94zm-11 1L8.5 8.5l.94-2.06 2.06-.94-2.06-.94L8.5 2.5l-.94 2.06-2.06.94zm10 10l.94 2.06.94-2.06 2.06-.94-2.06-.94-.94-2.06-.94 2.06-2.06.94z\"/><path d=\"M17.41 7.96l-1.37-1.37c-.4-.4-.92-.59-1.43-.59-.52 0-1.04.2-1.43.59L10.3 9.45l-7.72 7.72c-.78.78-.78 2.05 0 2.83L4 21.41c.39.39.9.59 1.41.59.51 0 1.02-.2 1.41-.59l7.78-7.78 2.81-2.81c.8-.78.8-2.07 0-2.86zM5.41 20L4 18.59l7.72-7.72 1.47 1.35L5.41 20z\"/>\n",
              "  </svg>\n",
              "      </button>\n",
              "      \n",
              "  <style>\n",
              "    .colab-df-container {\n",
              "      display:flex;\n",
              "      flex-wrap:wrap;\n",
              "      gap: 12px;\n",
              "    }\n",
              "\n",
              "    .colab-df-convert {\n",
              "      background-color: #E8F0FE;\n",
              "      border: none;\n",
              "      border-radius: 50%;\n",
              "      cursor: pointer;\n",
              "      display: none;\n",
              "      fill: #1967D2;\n",
              "      height: 32px;\n",
              "      padding: 0 0 0 0;\n",
              "      width: 32px;\n",
              "    }\n",
              "\n",
              "    .colab-df-convert:hover {\n",
              "      background-color: #E2EBFA;\n",
              "      box-shadow: 0px 1px 2px rgba(60, 64, 67, 0.3), 0px 1px 3px 1px rgba(60, 64, 67, 0.15);\n",
              "      fill: #174EA6;\n",
              "    }\n",
              "\n",
              "    [theme=dark] .colab-df-convert {\n",
              "      background-color: #3B4455;\n",
              "      fill: #D2E3FC;\n",
              "    }\n",
              "\n",
              "    [theme=dark] .colab-df-convert:hover {\n",
              "      background-color: #434B5C;\n",
              "      box-shadow: 0px 1px 3px 1px rgba(0, 0, 0, 0.15);\n",
              "      filter: drop-shadow(0px 1px 2px rgba(0, 0, 0, 0.3));\n",
              "      fill: #FFFFFF;\n",
              "    }\n",
              "  </style>\n",
              "\n",
              "      <script>\n",
              "        const buttonEl =\n",
              "          document.querySelector('#df-2cfa36e4-79e9-4577-8cc8-9fcee7afd058 button.colab-df-convert');\n",
              "        buttonEl.style.display =\n",
              "          google.colab.kernel.accessAllowed ? 'block' : 'none';\n",
              "\n",
              "        async function convertToInteractive(key) {\n",
              "          const element = document.querySelector('#df-2cfa36e4-79e9-4577-8cc8-9fcee7afd058');\n",
              "          const dataTable =\n",
              "            await google.colab.kernel.invokeFunction('convertToInteractive',\n",
              "                                                     [key], {});\n",
              "          if (!dataTable) return;\n",
              "\n",
              "          const docLinkHtml = 'Like what you see? Visit the ' +\n",
              "            '<a target=\"_blank\" href=https://colab.research.google.com/notebooks/data_table.ipynb>data table notebook</a>'\n",
              "            + ' to learn more about interactive tables.';\n",
              "          element.innerHTML = '';\n",
              "          dataTable['output_type'] = 'display_data';\n",
              "          await google.colab.output.renderOutput(dataTable, element);\n",
              "          const docLink = document.createElement('div');\n",
              "          docLink.innerHTML = docLinkHtml;\n",
              "          element.appendChild(docLink);\n",
              "        }\n",
              "      </script>\n",
              "    </div>\n",
              "  </div>\n",
              "  "
            ],
            "text/plain": [
              "        DPQ010   DPQ020  ...  HEI2015C13_ADDSUG  HEI2015_TOTAL_SCORE\n",
              "count  4836.00  4836.00  ...            5060.00              5060.00\n",
              "mean      0.31     0.31  ...               6.22                49.97\n",
              "std       0.76     0.71  ...               3.33                12.32\n",
              "min       0.00     0.00  ...               0.00                16.06\n",
              "25%       0.00     0.00  ...               3.72                41.03\n",
              "50%       0.00     0.00  ...               6.86                49.51\n",
              "75%       0.00     0.00  ...               9.45                58.17\n",
              "95%       2.00     2.00  ...              10.00                71.19\n",
              "99%       3.00     3.00  ...              10.00                79.86\n",
              "max       9.00     9.00  ...              10.00                89.53\n",
              "\n",
              "[10 rows x 30 columns]"
            ]
          },
          "metadata": {},
          "execution_count": 9
        }
      ]
    },
    {
      "cell_type": "markdown",
      "metadata": {
        "id": "aBJ0Bh83H_h2"
      },
      "source": [
        "Avaliando frequências das variáveis qualitativas:"
      ]
    },
    {
      "cell_type": "markdown",
      "metadata": {
        "id": "tzYahxoTRYTD"
      },
      "source": [
        "Distribuição dos escores para PHQ9"
      ]
    },
    {
      "cell_type": "code",
      "metadata": {
        "id": "1aFggyc3H_h3",
        "colab": {
          "base_uri": "https://localhost:8080/",
          "height": 260
        },
        "outputId": "97e5a107-3d8d-45ef-a595-a879139e9518"
      },
      "source": [
        "db[[\n",
        "\"DPQ010\",\n",
        "\"DPQ020\",\n",
        "\"DPQ030\",\n",
        "\"DPQ040\",\n",
        "\"DPQ050\",\n",
        "\"DPQ060\",\n",
        "\"DPQ070\",\n",
        "\"DPQ080\",\n",
        "\"DPQ090\"]].agg(['value_counts'])"
      ],
      "execution_count": null,
      "outputs": [
        {
          "output_type": "execute_result",
          "data": {
            "text/html": [
              "\n",
              "  <div id=\"df-035eff1f-5afb-4a6b-8779-7a3b64d664fe\">\n",
              "    <div class=\"colab-df-container\">\n",
              "      <div>\n",
              "<style scoped>\n",
              "    .dataframe tbody tr th:only-of-type {\n",
              "        vertical-align: middle;\n",
              "    }\n",
              "\n",
              "    .dataframe tbody tr th {\n",
              "        vertical-align: top;\n",
              "    }\n",
              "\n",
              "    .dataframe thead tr th {\n",
              "        text-align: left;\n",
              "    }\n",
              "</style>\n",
              "<table border=\"1\" class=\"dataframe\">\n",
              "  <thead>\n",
              "    <tr>\n",
              "      <th></th>\n",
              "      <th>DPQ010</th>\n",
              "      <th>DPQ020</th>\n",
              "      <th>DPQ030</th>\n",
              "      <th>DPQ040</th>\n",
              "      <th>DPQ050</th>\n",
              "      <th>DPQ060</th>\n",
              "      <th>DPQ070</th>\n",
              "      <th>DPQ080</th>\n",
              "      <th>DPQ090</th>\n",
              "    </tr>\n",
              "    <tr>\n",
              "      <th></th>\n",
              "      <th>value_counts</th>\n",
              "      <th>value_counts</th>\n",
              "      <th>value_counts</th>\n",
              "      <th>value_counts</th>\n",
              "      <th>value_counts</th>\n",
              "      <th>value_counts</th>\n",
              "      <th>value_counts</th>\n",
              "      <th>value_counts</th>\n",
              "      <th>value_counts</th>\n",
              "    </tr>\n",
              "  </thead>\n",
              "  <tbody>\n",
              "    <tr>\n",
              "      <th>0.0</th>\n",
              "      <td>3850</td>\n",
              "      <td>3769</td>\n",
              "      <td>3152</td>\n",
              "      <td>2429</td>\n",
              "      <td>3813</td>\n",
              "      <td>4134</td>\n",
              "      <td>4070</td>\n",
              "      <td>4362</td>\n",
              "      <td>4667</td>\n",
              "    </tr>\n",
              "    <tr>\n",
              "      <th>1.0</th>\n",
              "      <td>673</td>\n",
              "      <td>769</td>\n",
              "      <td>1071</td>\n",
              "      <td>1706</td>\n",
              "      <td>691</td>\n",
              "      <td>513</td>\n",
              "      <td>545</td>\n",
              "      <td>341</td>\n",
              "      <td>122</td>\n",
              "    </tr>\n",
              "    <tr>\n",
              "      <th>2.0</th>\n",
              "      <td>180</td>\n",
              "      <td>179</td>\n",
              "      <td>286</td>\n",
              "      <td>370</td>\n",
              "      <td>160</td>\n",
              "      <td>95</td>\n",
              "      <td>118</td>\n",
              "      <td>79</td>\n",
              "      <td>32</td>\n",
              "    </tr>\n",
              "    <tr>\n",
              "      <th>3.0</th>\n",
              "      <td>124</td>\n",
              "      <td>114</td>\n",
              "      <td>320</td>\n",
              "      <td>326</td>\n",
              "      <td>168</td>\n",
              "      <td>89</td>\n",
              "      <td>99</td>\n",
              "      <td>45</td>\n",
              "      <td>13</td>\n",
              "    </tr>\n",
              "    <tr>\n",
              "      <th>9.0</th>\n",
              "      <td>9</td>\n",
              "      <td>5</td>\n",
              "      <td>7</td>\n",
              "      <td>5</td>\n",
              "      <td>4</td>\n",
              "      <td>5</td>\n",
              "      <td>4</td>\n",
              "      <td>9</td>\n",
              "      <td>2</td>\n",
              "    </tr>\n",
              "  </tbody>\n",
              "</table>\n",
              "</div>\n",
              "      <button class=\"colab-df-convert\" onclick=\"convertToInteractive('df-035eff1f-5afb-4a6b-8779-7a3b64d664fe')\"\n",
              "              title=\"Convert this dataframe to an interactive table.\"\n",
              "              style=\"display:none;\">\n",
              "        \n",
              "  <svg xmlns=\"http://www.w3.org/2000/svg\" height=\"24px\"viewBox=\"0 0 24 24\"\n",
              "       width=\"24px\">\n",
              "    <path d=\"M0 0h24v24H0V0z\" fill=\"none\"/>\n",
              "    <path d=\"M18.56 5.44l.94 2.06.94-2.06 2.06-.94-2.06-.94-.94-2.06-.94 2.06-2.06.94zm-11 1L8.5 8.5l.94-2.06 2.06-.94-2.06-.94L8.5 2.5l-.94 2.06-2.06.94zm10 10l.94 2.06.94-2.06 2.06-.94-2.06-.94-.94-2.06-.94 2.06-2.06.94z\"/><path d=\"M17.41 7.96l-1.37-1.37c-.4-.4-.92-.59-1.43-.59-.52 0-1.04.2-1.43.59L10.3 9.45l-7.72 7.72c-.78.78-.78 2.05 0 2.83L4 21.41c.39.39.9.59 1.41.59.51 0 1.02-.2 1.41-.59l7.78-7.78 2.81-2.81c.8-.78.8-2.07 0-2.86zM5.41 20L4 18.59l7.72-7.72 1.47 1.35L5.41 20z\"/>\n",
              "  </svg>\n",
              "      </button>\n",
              "      \n",
              "  <style>\n",
              "    .colab-df-container {\n",
              "      display:flex;\n",
              "      flex-wrap:wrap;\n",
              "      gap: 12px;\n",
              "    }\n",
              "\n",
              "    .colab-df-convert {\n",
              "      background-color: #E8F0FE;\n",
              "      border: none;\n",
              "      border-radius: 50%;\n",
              "      cursor: pointer;\n",
              "      display: none;\n",
              "      fill: #1967D2;\n",
              "      height: 32px;\n",
              "      padding: 0 0 0 0;\n",
              "      width: 32px;\n",
              "    }\n",
              "\n",
              "    .colab-df-convert:hover {\n",
              "      background-color: #E2EBFA;\n",
              "      box-shadow: 0px 1px 2px rgba(60, 64, 67, 0.3), 0px 1px 3px 1px rgba(60, 64, 67, 0.15);\n",
              "      fill: #174EA6;\n",
              "    }\n",
              "\n",
              "    [theme=dark] .colab-df-convert {\n",
              "      background-color: #3B4455;\n",
              "      fill: #D2E3FC;\n",
              "    }\n",
              "\n",
              "    [theme=dark] .colab-df-convert:hover {\n",
              "      background-color: #434B5C;\n",
              "      box-shadow: 0px 1px 3px 1px rgba(0, 0, 0, 0.15);\n",
              "      filter: drop-shadow(0px 1px 2px rgba(0, 0, 0, 0.3));\n",
              "      fill: #FFFFFF;\n",
              "    }\n",
              "  </style>\n",
              "\n",
              "      <script>\n",
              "        const buttonEl =\n",
              "          document.querySelector('#df-035eff1f-5afb-4a6b-8779-7a3b64d664fe button.colab-df-convert');\n",
              "        buttonEl.style.display =\n",
              "          google.colab.kernel.accessAllowed ? 'block' : 'none';\n",
              "\n",
              "        async function convertToInteractive(key) {\n",
              "          const element = document.querySelector('#df-035eff1f-5afb-4a6b-8779-7a3b64d664fe');\n",
              "          const dataTable =\n",
              "            await google.colab.kernel.invokeFunction('convertToInteractive',\n",
              "                                                     [key], {});\n",
              "          if (!dataTable) return;\n",
              "\n",
              "          const docLinkHtml = 'Like what you see? Visit the ' +\n",
              "            '<a target=\"_blank\" href=https://colab.research.google.com/notebooks/data_table.ipynb>data table notebook</a>'\n",
              "            + ' to learn more about interactive tables.';\n",
              "          element.innerHTML = '';\n",
              "          dataTable['output_type'] = 'display_data';\n",
              "          await google.colab.output.renderOutput(dataTable, element);\n",
              "          const docLink = document.createElement('div');\n",
              "          docLink.innerHTML = docLinkHtml;\n",
              "          element.appendChild(docLink);\n",
              "        }\n",
              "      </script>\n",
              "    </div>\n",
              "  </div>\n",
              "  "
            ],
            "text/plain": [
              "          DPQ010       DPQ020  ...       DPQ080       DPQ090\n",
              "    value_counts value_counts  ... value_counts value_counts\n",
              "0.0         3850         3769  ...         4362         4667\n",
              "1.0          673          769  ...          341          122\n",
              "2.0          180          179  ...           79           32\n",
              "3.0          124          114  ...           45           13\n",
              "9.0            9            5  ...            9            2\n",
              "\n",
              "[5 rows x 9 columns]"
            ]
          },
          "metadata": {},
          "execution_count": 10
        }
      ]
    },
    {
      "cell_type": "markdown",
      "metadata": {
        "id": "_L6UExL6RUAO"
      },
      "source": [
        "Distribuição de raça:"
      ]
    },
    {
      "cell_type": "code",
      "metadata": {
        "scrolled": true,
        "id": "z4pj0Um3H_h3",
        "colab": {
          "base_uri": "https://localhost:8080/"
        },
        "outputId": "378cd7cc-367b-409e-b638-70ad3465f407"
      },
      "source": [
        "db[[\"RIDRETH1\"]].value_counts(sort = False)\n",
        "\n",
        "# RIDRETH1 com códigos errados no desafio\n",
        "# 1\tMexican American\t\n",
        "# 2\tOther Hispanic\n",
        "# 3\tNon-Hispanic White\t\n",
        "# 4\tNon-Hispanic Black\t\n",
        "# 5\tOther Race - Including Multi-Racial"
      ],
      "execution_count": null,
      "outputs": [
        {
          "output_type": "execute_result",
          "data": {
            "text/plain": [
              "RIDRETH1\n",
              "1           1133\n",
              "2            164\n",
              "3           2516\n",
              "4           1300\n",
              "5            221\n",
              "dtype: int64"
            ]
          },
          "metadata": {},
          "execution_count": 11
        }
      ]
    },
    {
      "cell_type": "markdown",
      "metadata": {
        "id": "Rzk9oqttRhES"
      },
      "source": [
        "Distribuição de escolaridade:"
      ]
    },
    {
      "cell_type": "code",
      "metadata": {
        "id": "9JGqJU9RH_h3",
        "colab": {
          "base_uri": "https://localhost:8080/"
        },
        "outputId": "09c531cf-665f-4b3a-cf70-0850802643f2"
      },
      "source": [
        "db[[\"DMDEDUC\"]].value_counts(sort = False)\n",
        "# 1 = Menor que 9o ano\n",
        "# 2 = 9-12o ano\n",
        "# 3 = Ensino médio\n",
        "# 4 = Ensino superior incompleto\n",
        "# 5 = Superior completo ou maior\n",
        "# 7 = Se recusou a responder\n",
        "# 9 = Não sabe"
      ],
      "execution_count": null,
      "outputs": [
        {
          "output_type": "execute_result",
          "data": {
            "text/plain": [
              "DMDEDUC\n",
              "1           618\n",
              "2           936\n",
              "3          1335\n",
              "4          1498\n",
              "5           939\n",
              "7             4\n",
              "9             4\n",
              "dtype: int64"
            ]
          },
          "metadata": {},
          "execution_count": 12
        }
      ]
    },
    {
      "cell_type": "markdown",
      "metadata": {
        "id": "IqvrVqirSANZ"
      },
      "source": [
        "Distribuição de renda:"
      ]
    },
    {
      "cell_type": "code",
      "metadata": {
        "id": "1rCPHsAtH_h3",
        "colab": {
          "base_uri": "https://localhost:8080/"
        },
        "outputId": "fcd269b1-33d0-4164-f42f-53ad479f2343"
      },
      "source": [
        "db[[\"INDFMINC\"]].value_counts(sort = False)\n",
        "# 1 = 0-4999\n",
        "# 2 - 5000-9999\n",
        "# 3 = 10000-14999\n",
        "# 4 = 15000-19999\n",
        "# 5 = 20000-24999\n",
        "# 6 = 25000-34999\n",
        "# 7 = 35000-44999\n",
        "# 8 = 45000-54999\n",
        "# 9 = 55000-64999\n",
        "# 10 = 65000-74999\n",
        "# 11 = Maior ou igual a 75000\n",
        "# 12 = Maior que 20000\n",
        "# 13 = Menor que 20000\n",
        "# 77 = Se recusou a responder\n",
        "# 99 = Não sabe"
      ],
      "execution_count": null,
      "outputs": [
        {
          "output_type": "execute_result",
          "data": {
            "text/plain": [
              "INDFMINC\n",
              "1.0          190\n",
              "2.0          281\n",
              "3.0          440\n",
              "4.0          412\n",
              "5.0          426\n",
              "6.0          678\n",
              "7.0          535\n",
              "8.0          485\n",
              "9.0          297\n",
              "10.0         278\n",
              "11.0        1044\n",
              "12.0          78\n",
              "13.0          30\n",
              "77.0          36\n",
              "99.0          77\n",
              "dtype: int64"
            ]
          },
          "metadata": {},
          "execution_count": 13
        }
      ]
    },
    {
      "cell_type": "markdown",
      "metadata": {
        "id": "TiUeY4y4SgQS"
      },
      "source": [
        "Distribuição de grupo de aderência:"
      ]
    },
    {
      "cell_type": "code",
      "metadata": {
        "id": "w08IesVHH_h3",
        "colab": {
          "base_uri": "https://localhost:8080/"
        },
        "outputId": "9c7d4253-fe0f-4848-9757-03dbec87ff43"
      },
      "source": [
        "db[[\"ADHERENCE\"]].value_counts(sort = False)\n",
        "\n",
        "# 1 = Baixo (< 150 min/semana)\n",
        "# 2 = Adequado (150-300 min/semana)\n",
        "# 3 = Acima (> 300 min/semana)"
      ],
      "execution_count": null,
      "outputs": [
        {
          "output_type": "execute_result",
          "data": {
            "text/plain": [
              "ADHERENCE\n",
              "1.0          2304\n",
              "2.0           834\n",
              "3.0          2196\n",
              "dtype: int64"
            ]
          },
          "metadata": {},
          "execution_count": 14
        }
      ]
    },
    {
      "cell_type": "markdown",
      "metadata": {
        "id": "INj0kAV3H_h4"
      },
      "source": [
        "Agrupando/recategorizando variáveis qualitativas:\n",
        "\n",
        "1) Substituindo as categorias 7 e 9 por missing para as variáveis DPQ0X0 e DMDEDUC\n",
        "\n",
        "2) Agrupando as categorias 2 e 5 na variável RIDRETH1\n",
        "\n",
        "3) Recategorizando a variável INDFMINC com o ponto médio de cada categoria por conter muitas categorias nesta variável. Iremos prosseguir a análise desta variável como uma variável quantitativa"
      ]
    },
    {
      "cell_type": "code",
      "metadata": {
        "id": "YxOhEd9WH_h4"
      },
      "source": [
        "replace_map = {\n",
        "  \"DPQ010\": {7: np.nan, 9: np.nan},\n",
        "  \"DPQ020\": {7: np.nan, 9: np.nan},\n",
        "  \"DPQ030\": {7: np.nan, 9: np.nan},\n",
        "  \"DPQ040\": {7: np.nan, 9: np.nan},\n",
        "  \"DPQ050\": {7: np.nan, 9: np.nan},\n",
        "  \"DPQ060\": {7: np.nan, 9: np.nan},\n",
        "  \"DPQ070\": {7: np.nan, 9: np.nan},\n",
        "  \"DPQ080\": {7: np.nan, 9: np.nan},\n",
        "  \"DPQ090\": {7: np.nan, 9: np.nan},\n",
        "  \"RIDRETH1\": {5: 2}, # Other\n",
        "  \"DMDEDUC\": {7: np.nan, 9: np.nan},\n",
        "  \"INDFMINC\": {1: np.mean([0,4999]), 2: np.mean([5000,9999]), 3: np.mean([10000,14999]),4: np.mean([15000,19999]),\n",
        "               5: np.mean([20000,24999]),6: np.mean([25000,34999]), 7: np.mean([35000,44999]), 8: np.mean([45000,54999]),\n",
        "               9: np.mean([55000,64999]), 10: np.mean([65000,74999]), 11: 75000, 12: np.mean([20000, 90000]), 13: np.mean([0, 19999]),\n",
        "               77: np.nan, 99: np.nan}\n",
        "}\n",
        "\n",
        "db2 = db.replace(replace_map)"
      ],
      "execution_count": null,
      "outputs": []
    },
    {
      "cell_type": "markdown",
      "metadata": {
        "id": "7ybDvKiAH_h4"
      },
      "source": [
        "### Construção das variáveis"
      ]
    },
    {
      "cell_type": "markdown",
      "metadata": {
        "id": "3CMX0SviH_h4"
      },
      "source": [
        "Checando casos faltantes para as variáveis do phq9:"
      ]
    },
    {
      "cell_type": "code",
      "metadata": {
        "id": "1OCT1iKaH_h4",
        "colab": {
          "base_uri": "https://localhost:8080/"
        },
        "outputId": "d4f2985e-8d89-4069-ed8c-dddbf62e32f7"
      },
      "source": [
        "db2[[\"DPQ010\", \n",
        "     \"DPQ020\", \n",
        "     \"DPQ030\", \n",
        "     \"DPQ040\",\n",
        "     \"DPQ050\", \n",
        "     \"DPQ060\", \n",
        "     \"DPQ070\", \n",
        "     \"DPQ080\", \n",
        "     \"DPQ090\"]].isnull().mean()"
      ],
      "execution_count": null,
      "outputs": [
        {
          "output_type": "execute_result",
          "data": {
            "text/plain": [
              "DPQ010    0.095051\n",
              "DPQ020    0.094301\n",
              "DPQ030    0.094676\n",
              "DPQ040    0.094301\n",
              "DPQ050    0.094113\n",
              "DPQ060    0.094301\n",
              "DPQ070    0.094113\n",
              "DPQ080    0.095051\n",
              "DPQ090    0.093738\n",
              "dtype: float64"
            ]
          },
          "metadata": {},
          "execution_count": 16
        }
      ]
    },
    {
      "cell_type": "markdown",
      "metadata": {
        "id": "Iy7TDDkEH_h5"
      },
      "source": [
        "Construindo variável phq9:"
      ]
    },
    {
      "cell_type": "code",
      "metadata": {
        "id": "8tIYxIV1H_h5",
        "colab": {
          "base_uri": "https://localhost:8080/",
          "height": 228
        },
        "outputId": "d954abf1-63bf-4940-9865-7a7ded8e8f8f"
      },
      "source": [
        "db2[\"phq9\"] = db2[[\"DPQ010\", \n",
        "                   \"DPQ020\", \n",
        "                   \"DPQ030\", \n",
        "                   \"DPQ040\", \n",
        "                   \"DPQ050\", \n",
        "                   \"DPQ060\", \n",
        "                   \"DPQ070\", \n",
        "                   \"DPQ080\", \n",
        "                   \"DPQ090\"]].sum(axis = 'columns', skipna = False)\n",
        "\n",
        "db2[[\"DPQ010\", \n",
        "     \"DPQ020\", \n",
        "     \"DPQ030\", \n",
        "     \"DPQ040\",\n",
        "     \"DPQ050\", \n",
        "     \"DPQ060\", \n",
        "     \"DPQ070\", \n",
        "     \"DPQ080\", \n",
        "     \"DPQ090\",\n",
        "     \"phq9\"]].head()"
      ],
      "execution_count": null,
      "outputs": [
        {
          "output_type": "execute_result",
          "data": {
            "text/html": [
              "\n",
              "  <div id=\"df-070775b5-8ce8-42a3-a262-025297ecb17f\">\n",
              "    <div class=\"colab-df-container\">\n",
              "      <div>\n",
              "<style scoped>\n",
              "    .dataframe tbody tr th:only-of-type {\n",
              "        vertical-align: middle;\n",
              "    }\n",
              "\n",
              "    .dataframe tbody tr th {\n",
              "        vertical-align: top;\n",
              "    }\n",
              "\n",
              "    .dataframe thead th {\n",
              "        text-align: right;\n",
              "    }\n",
              "</style>\n",
              "<table border=\"1\" class=\"dataframe\">\n",
              "  <thead>\n",
              "    <tr style=\"text-align: right;\">\n",
              "      <th></th>\n",
              "      <th>DPQ010</th>\n",
              "      <th>DPQ020</th>\n",
              "      <th>DPQ030</th>\n",
              "      <th>DPQ040</th>\n",
              "      <th>DPQ050</th>\n",
              "      <th>DPQ060</th>\n",
              "      <th>DPQ070</th>\n",
              "      <th>DPQ080</th>\n",
              "      <th>DPQ090</th>\n",
              "      <th>phq9</th>\n",
              "    </tr>\n",
              "  </thead>\n",
              "  <tbody>\n",
              "    <tr>\n",
              "      <th>0</th>\n",
              "      <td>NaN</td>\n",
              "      <td>NaN</td>\n",
              "      <td>NaN</td>\n",
              "      <td>NaN</td>\n",
              "      <td>NaN</td>\n",
              "      <td>NaN</td>\n",
              "      <td>NaN</td>\n",
              "      <td>NaN</td>\n",
              "      <td>NaN</td>\n",
              "      <td>NaN</td>\n",
              "    </tr>\n",
              "    <tr>\n",
              "      <th>1</th>\n",
              "      <td>0.0</td>\n",
              "      <td>0.0</td>\n",
              "      <td>0.0</td>\n",
              "      <td>0.0</td>\n",
              "      <td>0.0</td>\n",
              "      <td>0.0</td>\n",
              "      <td>0.0</td>\n",
              "      <td>0.0</td>\n",
              "      <td>0.0</td>\n",
              "      <td>0.0</td>\n",
              "    </tr>\n",
              "    <tr>\n",
              "      <th>2</th>\n",
              "      <td>0.0</td>\n",
              "      <td>0.0</td>\n",
              "      <td>0.0</td>\n",
              "      <td>0.0</td>\n",
              "      <td>0.0</td>\n",
              "      <td>0.0</td>\n",
              "      <td>0.0</td>\n",
              "      <td>0.0</td>\n",
              "      <td>0.0</td>\n",
              "      <td>0.0</td>\n",
              "    </tr>\n",
              "    <tr>\n",
              "      <th>3</th>\n",
              "      <td>0.0</td>\n",
              "      <td>0.0</td>\n",
              "      <td>0.0</td>\n",
              "      <td>0.0</td>\n",
              "      <td>0.0</td>\n",
              "      <td>0.0</td>\n",
              "      <td>0.0</td>\n",
              "      <td>0.0</td>\n",
              "      <td>0.0</td>\n",
              "      <td>0.0</td>\n",
              "    </tr>\n",
              "    <tr>\n",
              "      <th>4</th>\n",
              "      <td>0.0</td>\n",
              "      <td>0.0</td>\n",
              "      <td>0.0</td>\n",
              "      <td>0.0</td>\n",
              "      <td>3.0</td>\n",
              "      <td>1.0</td>\n",
              "      <td>0.0</td>\n",
              "      <td>0.0</td>\n",
              "      <td>0.0</td>\n",
              "      <td>4.0</td>\n",
              "    </tr>\n",
              "  </tbody>\n",
              "</table>\n",
              "</div>\n",
              "      <button class=\"colab-df-convert\" onclick=\"convertToInteractive('df-070775b5-8ce8-42a3-a262-025297ecb17f')\"\n",
              "              title=\"Convert this dataframe to an interactive table.\"\n",
              "              style=\"display:none;\">\n",
              "        \n",
              "  <svg xmlns=\"http://www.w3.org/2000/svg\" height=\"24px\"viewBox=\"0 0 24 24\"\n",
              "       width=\"24px\">\n",
              "    <path d=\"M0 0h24v24H0V0z\" fill=\"none\"/>\n",
              "    <path d=\"M18.56 5.44l.94 2.06.94-2.06 2.06-.94-2.06-.94-.94-2.06-.94 2.06-2.06.94zm-11 1L8.5 8.5l.94-2.06 2.06-.94-2.06-.94L8.5 2.5l-.94 2.06-2.06.94zm10 10l.94 2.06.94-2.06 2.06-.94-2.06-.94-.94-2.06-.94 2.06-2.06.94z\"/><path d=\"M17.41 7.96l-1.37-1.37c-.4-.4-.92-.59-1.43-.59-.52 0-1.04.2-1.43.59L10.3 9.45l-7.72 7.72c-.78.78-.78 2.05 0 2.83L4 21.41c.39.39.9.59 1.41.59.51 0 1.02-.2 1.41-.59l7.78-7.78 2.81-2.81c.8-.78.8-2.07 0-2.86zM5.41 20L4 18.59l7.72-7.72 1.47 1.35L5.41 20z\"/>\n",
              "  </svg>\n",
              "      </button>\n",
              "      \n",
              "  <style>\n",
              "    .colab-df-container {\n",
              "      display:flex;\n",
              "      flex-wrap:wrap;\n",
              "      gap: 12px;\n",
              "    }\n",
              "\n",
              "    .colab-df-convert {\n",
              "      background-color: #E8F0FE;\n",
              "      border: none;\n",
              "      border-radius: 50%;\n",
              "      cursor: pointer;\n",
              "      display: none;\n",
              "      fill: #1967D2;\n",
              "      height: 32px;\n",
              "      padding: 0 0 0 0;\n",
              "      width: 32px;\n",
              "    }\n",
              "\n",
              "    .colab-df-convert:hover {\n",
              "      background-color: #E2EBFA;\n",
              "      box-shadow: 0px 1px 2px rgba(60, 64, 67, 0.3), 0px 1px 3px 1px rgba(60, 64, 67, 0.15);\n",
              "      fill: #174EA6;\n",
              "    }\n",
              "\n",
              "    [theme=dark] .colab-df-convert {\n",
              "      background-color: #3B4455;\n",
              "      fill: #D2E3FC;\n",
              "    }\n",
              "\n",
              "    [theme=dark] .colab-df-convert:hover {\n",
              "      background-color: #434B5C;\n",
              "      box-shadow: 0px 1px 3px 1px rgba(0, 0, 0, 0.15);\n",
              "      filter: drop-shadow(0px 1px 2px rgba(0, 0, 0, 0.3));\n",
              "      fill: #FFFFFF;\n",
              "    }\n",
              "  </style>\n",
              "\n",
              "      <script>\n",
              "        const buttonEl =\n",
              "          document.querySelector('#df-070775b5-8ce8-42a3-a262-025297ecb17f button.colab-df-convert');\n",
              "        buttonEl.style.display =\n",
              "          google.colab.kernel.accessAllowed ? 'block' : 'none';\n",
              "\n",
              "        async function convertToInteractive(key) {\n",
              "          const element = document.querySelector('#df-070775b5-8ce8-42a3-a262-025297ecb17f');\n",
              "          const dataTable =\n",
              "            await google.colab.kernel.invokeFunction('convertToInteractive',\n",
              "                                                     [key], {});\n",
              "          if (!dataTable) return;\n",
              "\n",
              "          const docLinkHtml = 'Like what you see? Visit the ' +\n",
              "            '<a target=\"_blank\" href=https://colab.research.google.com/notebooks/data_table.ipynb>data table notebook</a>'\n",
              "            + ' to learn more about interactive tables.';\n",
              "          element.innerHTML = '';\n",
              "          dataTable['output_type'] = 'display_data';\n",
              "          await google.colab.output.renderOutput(dataTable, element);\n",
              "          const docLink = document.createElement('div');\n",
              "          docLink.innerHTML = docLinkHtml;\n",
              "          element.appendChild(docLink);\n",
              "        }\n",
              "      </script>\n",
              "    </div>\n",
              "  </div>\n",
              "  "
            ],
            "text/plain": [
              "   DPQ010  DPQ020  DPQ030  DPQ040  DPQ050  DPQ060  DPQ070  DPQ080  DPQ090  phq9\n",
              "0     NaN     NaN     NaN     NaN     NaN     NaN     NaN     NaN     NaN   NaN\n",
              "1     0.0     0.0     0.0     0.0     0.0     0.0     0.0     0.0     0.0   0.0\n",
              "2     0.0     0.0     0.0     0.0     0.0     0.0     0.0     0.0     0.0   0.0\n",
              "3     0.0     0.0     0.0     0.0     0.0     0.0     0.0     0.0     0.0   0.0\n",
              "4     0.0     0.0     0.0     0.0     3.0     1.0     0.0     0.0     0.0   4.0"
            ]
          },
          "metadata": {},
          "execution_count": 60
        }
      ]
    },
    {
      "cell_type": "markdown",
      "metadata": {
        "id": "wm4eeeu-H_h5"
      },
      "source": [
        "Construindo variável phq_grp"
      ]
    },
    {
      "cell_type": "code",
      "metadata": {
        "id": "oJmO-j1wH_h5",
        "colab": {
          "base_uri": "https://localhost:8080/"
        },
        "outputId": "8978473a-dbf0-4d63-9ab2-af20b73c3d09"
      },
      "source": [
        "conditions = [\n",
        "  (db2['phq9'].isna()),\n",
        "  (db2['phq9'] <= 5),\n",
        "  (db2['phq9'] > 5) & (db2['phq9'] <= 9),\n",
        "  (db2['phq9'] > 9) & (db2['phq9'] <= 14),\n",
        "  (db2['phq9'] > 14) & (db2['phq9'] <= 19),\n",
        "  (db2['phq9'] > 19)\n",
        "    ]\n",
        "values = [np.nan, 0, 1, 2, 3, 4]\n",
        "\n",
        "db2[\"phq_grp\"] = np.select(conditions, values) # Construindo variável\n",
        "\n",
        "db2[[\"phq_grp\"]].value_counts(sort = False) # Avaliando frequencia"
      ],
      "execution_count": null,
      "outputs": [
        {
          "output_type": "execute_result",
          "data": {
            "text/plain": [
              "phq_grp\n",
              "0.0        4013\n",
              "1.0         489\n",
              "2.0         201\n",
              "3.0          73\n",
              "4.0          23\n",
              "dtype: int64"
            ]
          },
          "metadata": {},
          "execution_count": 18
        }
      ]
    },
    {
      "cell_type": "markdown",
      "metadata": {
        "id": "4DMqhSKKH_h5"
      },
      "source": [
        "Podemos construir novas variáveis a partir da variável phq_grp:"
      ]
    },
    {
      "cell_type": "code",
      "metadata": {
        "id": "fME8k54mH_h5",
        "colab": {
          "base_uri": "https://localhost:8080/"
        },
        "outputId": "2fbbb971-341c-471e-ff0f-7c28a32df9d7"
      },
      "source": [
        "# Agrupando phq_grp em 0 = Sem sintomas, 1 = Sintomas leves, 2 = Sintomas moderados a severos\n",
        "\n",
        "db2[\"phq_grp2\"] = db2[\"phq_grp\"].replace([3, 4], 2)\n",
        "\n",
        "db2[[\"phq_grp2\"]].value_counts(sort = False) # Avaliando frequencia"
      ],
      "execution_count": null,
      "outputs": [
        {
          "output_type": "execute_result",
          "data": {
            "text/plain": [
              "phq_grp2\n",
              "0.0         4013\n",
              "1.0          489\n",
              "2.0          297\n",
              "dtype: int64"
            ]
          },
          "metadata": {},
          "execution_count": 19
        }
      ]
    },
    {
      "cell_type": "markdown",
      "metadata": {
        "id": "XKyZTqNwH_h5"
      },
      "source": [
        "1) Para as etapas de análise exploratória e teste de hipótese, utilizaremos a variável phq_grp2 com 3 níveis de sintomas de depressão. \n",
        "\n",
        "2) Como o percentual de missing está abaixo de 10% para todas as variáveis, seguiremos a análise utilizando apenas os dados completos. "
      ]
    },
    {
      "cell_type": "markdown",
      "metadata": {
        "id": "zkDwJ_lwH_h5"
      },
      "source": [
        "## EDA: Análise Univariada"
      ]
    },
    {
      "cell_type": "code",
      "metadata": {
        "id": "Ojb7JrHKH_h6"
      },
      "source": [
        "var_quant = [\n",
        "    \"RIDAGEYR\", \n",
        "    \"INDFMINC\", \n",
        "    \"PAG_MINW\", \n",
        "    \"HEI2015C1_TOTALVEG\",\n",
        "    \"HEI2015C2_GREEN_AND_BEAN\",\n",
        "    \"HEI2015C3_TOTALFRUIT\",\n",
        "    \"HEI2015C4_WHOLEFRUIT\",\n",
        "    \"HEI2015C5_WHOLEGRAIN\",\n",
        "    \"HEI2015C6_TOTALDAIRY\",\n",
        "    \"HEI2015C7_TOTPROT\",\n",
        "    \"HEI2015C8_SEAPLANT_PROT\",\n",
        "    \"HEI2015C9_FATTYACID\",\n",
        "    \"HEI2015C10_SODIUM\",\n",
        "    \"HEI2015C11_REFINEDGRAIN\",\n",
        "    \"HEI2015C12_SFAT\",\n",
        "    \"HEI2015C13_ADDSUG\",\n",
        "    \"HEI2015_TOTAL_SCORE\",\n",
        "    \"phq9\"]\n",
        "\n",
        "var_quali = [\n",
        "    \"RIAGENDR\",\n",
        "    \"RIDRETH1\",\n",
        "    \"DMDEDUC\",\n",
        "    \"ADHERENCE\",\n",
        "    \"phq_grp2\"\n",
        "]\n",
        "\n",
        "label_quali = {\n",
        "  \"RIAGENDR\": {1: 'Masculino', 2: 'Feminino'},\n",
        "  \"RIDRETH1\": {1: 'Americano Mexicano', 2: 'Outro', 3: 'Branco \\n não hispânico', 4: 'Negro \\n não hispânico'},\n",
        "  \"DMDEDUC\": {1: \"< 9 ano\", 2: \"9-12 ano\", 3: \"Ensino \\n médio\", 4: \"Superior \\n incompleto\", 5: \"Superior \\n completo\"},\n",
        "  \"ADHERENCE\": {1: 'Baixo', 2: 'Adequado', 3: 'Acima'},\n",
        "  \"phq_grp2\": {0: \"Sem sintomas\", 1: \"Sintomas \\n leves\", 2: \"Sintomas \\n moderados-severos\"}\n",
        "}"
      ],
      "execution_count": null,
      "outputs": []
    },
    {
      "cell_type": "code",
      "metadata": {
        "colab": {
          "base_uri": "https://localhost:8080/",
          "height": 430
        },
        "id": "jedgYdc2shVo",
        "outputId": "0036fed8-47f6-46db-a01b-54748ab81e59"
      },
      "source": [
        "db2[var_quant].describe(percentiles = [.25, .5, .75, .95, .99]).round(2)"
      ],
      "execution_count": null,
      "outputs": [
        {
          "output_type": "execute_result",
          "data": {
            "text/html": [
              "\n",
              "  <div id=\"df-df0e4e2f-608b-4d7b-ad27-b4a9a3873cb1\">\n",
              "    <div class=\"colab-df-container\">\n",
              "      <div>\n",
              "<style scoped>\n",
              "    .dataframe tbody tr th:only-of-type {\n",
              "        vertical-align: middle;\n",
              "    }\n",
              "\n",
              "    .dataframe tbody tr th {\n",
              "        vertical-align: top;\n",
              "    }\n",
              "\n",
              "    .dataframe thead th {\n",
              "        text-align: right;\n",
              "    }\n",
              "</style>\n",
              "<table border=\"1\" class=\"dataframe\">\n",
              "  <thead>\n",
              "    <tr style=\"text-align: right;\">\n",
              "      <th></th>\n",
              "      <th>RIDAGEYR</th>\n",
              "      <th>INDFMINC</th>\n",
              "      <th>PAG_MINW</th>\n",
              "      <th>HEI2015C1_TOTALVEG</th>\n",
              "      <th>HEI2015C2_GREEN_AND_BEAN</th>\n",
              "      <th>HEI2015C3_TOTALFRUIT</th>\n",
              "      <th>HEI2015C4_WHOLEFRUIT</th>\n",
              "      <th>HEI2015C5_WHOLEGRAIN</th>\n",
              "      <th>HEI2015C6_TOTALDAIRY</th>\n",
              "      <th>HEI2015C7_TOTPROT</th>\n",
              "      <th>HEI2015C8_SEAPLANT_PROT</th>\n",
              "      <th>HEI2015C9_FATTYACID</th>\n",
              "      <th>HEI2015C10_SODIUM</th>\n",
              "      <th>HEI2015C11_REFINEDGRAIN</th>\n",
              "      <th>HEI2015C12_SFAT</th>\n",
              "      <th>HEI2015C13_ADDSUG</th>\n",
              "      <th>HEI2015_TOTAL_SCORE</th>\n",
              "      <th>phq9</th>\n",
              "    </tr>\n",
              "  </thead>\n",
              "  <tbody>\n",
              "    <tr>\n",
              "      <th>count</th>\n",
              "      <td>5334.00</td>\n",
              "      <td>5174.00</td>\n",
              "      <td>5334.00</td>\n",
              "      <td>5060.00</td>\n",
              "      <td>5060.00</td>\n",
              "      <td>5060.00</td>\n",
              "      <td>5060.00</td>\n",
              "      <td>5060.00</td>\n",
              "      <td>5060.00</td>\n",
              "      <td>5060.00</td>\n",
              "      <td>5060.00</td>\n",
              "      <td>5060.00</td>\n",
              "      <td>5060.00</td>\n",
              "      <td>5060.00</td>\n",
              "      <td>5060.00</td>\n",
              "      <td>5060.00</td>\n",
              "      <td>5060.00</td>\n",
              "      <td>4799.00</td>\n",
              "    </tr>\n",
              "    <tr>\n",
              "      <th>mean</th>\n",
              "      <td>45.09</td>\n",
              "      <td>40787.68</td>\n",
              "      <td>471.77</td>\n",
              "      <td>3.20</td>\n",
              "      <td>1.81</td>\n",
              "      <td>2.49</td>\n",
              "      <td>2.36</td>\n",
              "      <td>1.76</td>\n",
              "      <td>3.76</td>\n",
              "      <td>4.43</td>\n",
              "      <td>2.59</td>\n",
              "      <td>4.71</td>\n",
              "      <td>4.76</td>\n",
              "      <td>5.80</td>\n",
              "      <td>6.07</td>\n",
              "      <td>6.22</td>\n",
              "      <td>49.97</td>\n",
              "      <td>2.73</td>\n",
              "    </tr>\n",
              "    <tr>\n",
              "      <th>std</th>\n",
              "      <td>20.15</td>\n",
              "      <td>24247.24</td>\n",
              "      <td>780.35</td>\n",
              "      <td>1.47</td>\n",
              "      <td>2.14</td>\n",
              "      <td>1.95</td>\n",
              "      <td>2.17</td>\n",
              "      <td>1.92</td>\n",
              "      <td>1.61</td>\n",
              "      <td>1.01</td>\n",
              "      <td>2.17</td>\n",
              "      <td>3.24</td>\n",
              "      <td>3.42</td>\n",
              "      <td>3.50</td>\n",
              "      <td>3.18</td>\n",
              "      <td>3.33</td>\n",
              "      <td>12.32</td>\n",
              "      <td>3.73</td>\n",
              "    </tr>\n",
              "    <tr>\n",
              "      <th>min</th>\n",
              "      <td>18.00</td>\n",
              "      <td>2499.50</td>\n",
              "      <td>0.00</td>\n",
              "      <td>0.00</td>\n",
              "      <td>0.00</td>\n",
              "      <td>0.00</td>\n",
              "      <td>0.00</td>\n",
              "      <td>0.00</td>\n",
              "      <td>0.00</td>\n",
              "      <td>0.00</td>\n",
              "      <td>0.00</td>\n",
              "      <td>0.00</td>\n",
              "      <td>0.00</td>\n",
              "      <td>0.00</td>\n",
              "      <td>0.00</td>\n",
              "      <td>0.00</td>\n",
              "      <td>16.06</td>\n",
              "      <td>0.00</td>\n",
              "    </tr>\n",
              "    <tr>\n",
              "      <th>25%</th>\n",
              "      <td>27.00</td>\n",
              "      <td>17499.50</td>\n",
              "      <td>35.00</td>\n",
              "      <td>2.06</td>\n",
              "      <td>0.00</td>\n",
              "      <td>0.45</td>\n",
              "      <td>0.00</td>\n",
              "      <td>0.00</td>\n",
              "      <td>2.59</td>\n",
              "      <td>4.17</td>\n",
              "      <td>0.00</td>\n",
              "      <td>2.02</td>\n",
              "      <td>1.59</td>\n",
              "      <td>2.93</td>\n",
              "      <td>3.70</td>\n",
              "      <td>3.72</td>\n",
              "      <td>41.03</td>\n",
              "      <td>0.00</td>\n",
              "    </tr>\n",
              "    <tr>\n",
              "      <th>50%</th>\n",
              "      <td>43.00</td>\n",
              "      <td>39999.50</td>\n",
              "      <td>210.00</td>\n",
              "      <td>3.22</td>\n",
              "      <td>0.06</td>\n",
              "      <td>2.32</td>\n",
              "      <td>2.08</td>\n",
              "      <td>1.03</td>\n",
              "      <td>4.94</td>\n",
              "      <td>5.00</td>\n",
              "      <td>2.59</td>\n",
              "      <td>4.43</td>\n",
              "      <td>4.83</td>\n",
              "      <td>6.23</td>\n",
              "      <td>6.41</td>\n",
              "      <td>6.86</td>\n",
              "      <td>49.51</td>\n",
              "      <td>1.00</td>\n",
              "    </tr>\n",
              "    <tr>\n",
              "      <th>75%</th>\n",
              "      <td>62.00</td>\n",
              "      <td>69999.50</td>\n",
              "      <td>568.93</td>\n",
              "      <td>4.83</td>\n",
              "      <td>4.50</td>\n",
              "      <td>4.94</td>\n",
              "      <td>5.00</td>\n",
              "      <td>3.41</td>\n",
              "      <td>5.00</td>\n",
              "      <td>5.00</td>\n",
              "      <td>5.00</td>\n",
              "      <td>7.27</td>\n",
              "      <td>7.65</td>\n",
              "      <td>9.25</td>\n",
              "      <td>9.00</td>\n",
              "      <td>9.45</td>\n",
              "      <td>58.17</td>\n",
              "      <td>4.00</td>\n",
              "    </tr>\n",
              "    <tr>\n",
              "      <th>95%</th>\n",
              "      <td>81.00</td>\n",
              "      <td>75000.00</td>\n",
              "      <td>1863.05</td>\n",
              "      <td>5.00</td>\n",
              "      <td>5.00</td>\n",
              "      <td>5.00</td>\n",
              "      <td>5.00</td>\n",
              "      <td>5.00</td>\n",
              "      <td>5.00</td>\n",
              "      <td>5.00</td>\n",
              "      <td>5.00</td>\n",
              "      <td>10.00</td>\n",
              "      <td>10.00</td>\n",
              "      <td>10.00</td>\n",
              "      <td>10.00</td>\n",
              "      <td>10.00</td>\n",
              "      <td>71.19</td>\n",
              "      <td>10.00</td>\n",
              "    </tr>\n",
              "    <tr>\n",
              "      <th>99%</th>\n",
              "      <td>85.00</td>\n",
              "      <td>75000.00</td>\n",
              "      <td>3672.06</td>\n",
              "      <td>5.00</td>\n",
              "      <td>5.00</td>\n",
              "      <td>5.00</td>\n",
              "      <td>5.00</td>\n",
              "      <td>5.00</td>\n",
              "      <td>5.00</td>\n",
              "      <td>5.00</td>\n",
              "      <td>5.00</td>\n",
              "      <td>10.00</td>\n",
              "      <td>10.00</td>\n",
              "      <td>10.00</td>\n",
              "      <td>10.00</td>\n",
              "      <td>10.00</td>\n",
              "      <td>79.86</td>\n",
              "      <td>17.00</td>\n",
              "    </tr>\n",
              "    <tr>\n",
              "      <th>max</th>\n",
              "      <td>85.00</td>\n",
              "      <td>75000.00</td>\n",
              "      <td>10777.83</td>\n",
              "      <td>5.00</td>\n",
              "      <td>5.00</td>\n",
              "      <td>5.00</td>\n",
              "      <td>5.00</td>\n",
              "      <td>5.00</td>\n",
              "      <td>5.00</td>\n",
              "      <td>5.00</td>\n",
              "      <td>5.00</td>\n",
              "      <td>10.00</td>\n",
              "      <td>10.00</td>\n",
              "      <td>10.00</td>\n",
              "      <td>10.00</td>\n",
              "      <td>10.00</td>\n",
              "      <td>89.53</td>\n",
              "      <td>27.00</td>\n",
              "    </tr>\n",
              "  </tbody>\n",
              "</table>\n",
              "</div>\n",
              "      <button class=\"colab-df-convert\" onclick=\"convertToInteractive('df-df0e4e2f-608b-4d7b-ad27-b4a9a3873cb1')\"\n",
              "              title=\"Convert this dataframe to an interactive table.\"\n",
              "              style=\"display:none;\">\n",
              "        \n",
              "  <svg xmlns=\"http://www.w3.org/2000/svg\" height=\"24px\"viewBox=\"0 0 24 24\"\n",
              "       width=\"24px\">\n",
              "    <path d=\"M0 0h24v24H0V0z\" fill=\"none\"/>\n",
              "    <path d=\"M18.56 5.44l.94 2.06.94-2.06 2.06-.94-2.06-.94-.94-2.06-.94 2.06-2.06.94zm-11 1L8.5 8.5l.94-2.06 2.06-.94-2.06-.94L8.5 2.5l-.94 2.06-2.06.94zm10 10l.94 2.06.94-2.06 2.06-.94-2.06-.94-.94-2.06-.94 2.06-2.06.94z\"/><path d=\"M17.41 7.96l-1.37-1.37c-.4-.4-.92-.59-1.43-.59-.52 0-1.04.2-1.43.59L10.3 9.45l-7.72 7.72c-.78.78-.78 2.05 0 2.83L4 21.41c.39.39.9.59 1.41.59.51 0 1.02-.2 1.41-.59l7.78-7.78 2.81-2.81c.8-.78.8-2.07 0-2.86zM5.41 20L4 18.59l7.72-7.72 1.47 1.35L5.41 20z\"/>\n",
              "  </svg>\n",
              "      </button>\n",
              "      \n",
              "  <style>\n",
              "    .colab-df-container {\n",
              "      display:flex;\n",
              "      flex-wrap:wrap;\n",
              "      gap: 12px;\n",
              "    }\n",
              "\n",
              "    .colab-df-convert {\n",
              "      background-color: #E8F0FE;\n",
              "      border: none;\n",
              "      border-radius: 50%;\n",
              "      cursor: pointer;\n",
              "      display: none;\n",
              "      fill: #1967D2;\n",
              "      height: 32px;\n",
              "      padding: 0 0 0 0;\n",
              "      width: 32px;\n",
              "    }\n",
              "\n",
              "    .colab-df-convert:hover {\n",
              "      background-color: #E2EBFA;\n",
              "      box-shadow: 0px 1px 2px rgba(60, 64, 67, 0.3), 0px 1px 3px 1px rgba(60, 64, 67, 0.15);\n",
              "      fill: #174EA6;\n",
              "    }\n",
              "\n",
              "    [theme=dark] .colab-df-convert {\n",
              "      background-color: #3B4455;\n",
              "      fill: #D2E3FC;\n",
              "    }\n",
              "\n",
              "    [theme=dark] .colab-df-convert:hover {\n",
              "      background-color: #434B5C;\n",
              "      box-shadow: 0px 1px 3px 1px rgba(0, 0, 0, 0.15);\n",
              "      filter: drop-shadow(0px 1px 2px rgba(0, 0, 0, 0.3));\n",
              "      fill: #FFFFFF;\n",
              "    }\n",
              "  </style>\n",
              "\n",
              "      <script>\n",
              "        const buttonEl =\n",
              "          document.querySelector('#df-df0e4e2f-608b-4d7b-ad27-b4a9a3873cb1 button.colab-df-convert');\n",
              "        buttonEl.style.display =\n",
              "          google.colab.kernel.accessAllowed ? 'block' : 'none';\n",
              "\n",
              "        async function convertToInteractive(key) {\n",
              "          const element = document.querySelector('#df-df0e4e2f-608b-4d7b-ad27-b4a9a3873cb1');\n",
              "          const dataTable =\n",
              "            await google.colab.kernel.invokeFunction('convertToInteractive',\n",
              "                                                     [key], {});\n",
              "          if (!dataTable) return;\n",
              "\n",
              "          const docLinkHtml = 'Like what you see? Visit the ' +\n",
              "            '<a target=\"_blank\" href=https://colab.research.google.com/notebooks/data_table.ipynb>data table notebook</a>'\n",
              "            + ' to learn more about interactive tables.';\n",
              "          element.innerHTML = '';\n",
              "          dataTable['output_type'] = 'display_data';\n",
              "          await google.colab.output.renderOutput(dataTable, element);\n",
              "          const docLink = document.createElement('div');\n",
              "          docLink.innerHTML = docLinkHtml;\n",
              "          element.appendChild(docLink);\n",
              "        }\n",
              "      </script>\n",
              "    </div>\n",
              "  </div>\n",
              "  "
            ],
            "text/plain": [
              "       RIDAGEYR  INDFMINC  ...  HEI2015_TOTAL_SCORE     phq9\n",
              "count   5334.00   5174.00  ...              5060.00  4799.00\n",
              "mean      45.09  40787.68  ...                49.97     2.73\n",
              "std       20.15  24247.24  ...                12.32     3.73\n",
              "min       18.00   2499.50  ...                16.06     0.00\n",
              "25%       27.00  17499.50  ...                41.03     0.00\n",
              "50%       43.00  39999.50  ...                49.51     1.00\n",
              "75%       62.00  69999.50  ...                58.17     4.00\n",
              "95%       81.00  75000.00  ...                71.19    10.00\n",
              "99%       85.00  75000.00  ...                79.86    17.00\n",
              "max       85.00  75000.00  ...                89.53    27.00\n",
              "\n",
              "[10 rows x 18 columns]"
            ]
          },
          "metadata": {},
          "execution_count": 22
        }
      ]
    },
    {
      "cell_type": "markdown",
      "metadata": {
        "id": "xbMpMENCvNRA"
      },
      "source": [
        "Dado que uma semana tem no máximo 168 horas (10080 minutos) o valor máximo de PAG_MINW não parece ser um valor possível. Nesse caso, iremos truncar o valor de PAG_MINW em 3600 minutos (60h semanais).\n",
        "\n",
        "\n",
        "\n"
      ]
    },
    {
      "cell_type": "code",
      "metadata": {
        "colab": {
          "base_uri": "https://localhost:8080/",
          "height": 386
        },
        "id": "xObn7hgUvCmT",
        "outputId": "633eb128-06b5-43f9-f5d6-a291dbc5332d"
      },
      "source": [
        "db2['PAG_MINW_trunc'] = np.where(db2['PAG_MINW'] > 3600, 3600, db2['PAG_MINW'])\n",
        "\n",
        "db2[['PAG_MINW', 'PAG_MINW_trunc']].describe(percentiles = [.25, .5, .75, .95, .99]).round(2)"
      ],
      "execution_count": null,
      "outputs": [
        {
          "output_type": "execute_result",
          "data": {
            "text/html": [
              "\n",
              "  <div id=\"df-c95faaeb-621c-4993-8df6-ea0069080977\">\n",
              "    <div class=\"colab-df-container\">\n",
              "      <div>\n",
              "<style scoped>\n",
              "    .dataframe tbody tr th:only-of-type {\n",
              "        vertical-align: middle;\n",
              "    }\n",
              "\n",
              "    .dataframe tbody tr th {\n",
              "        vertical-align: top;\n",
              "    }\n",
              "\n",
              "    .dataframe thead th {\n",
              "        text-align: right;\n",
              "    }\n",
              "</style>\n",
              "<table border=\"1\" class=\"dataframe\">\n",
              "  <thead>\n",
              "    <tr style=\"text-align: right;\">\n",
              "      <th></th>\n",
              "      <th>PAG_MINW</th>\n",
              "      <th>PAG_MINW_trunc</th>\n",
              "    </tr>\n",
              "  </thead>\n",
              "  <tbody>\n",
              "    <tr>\n",
              "      <th>count</th>\n",
              "      <td>5334.00</td>\n",
              "      <td>5334.00</td>\n",
              "    </tr>\n",
              "    <tr>\n",
              "      <th>mean</th>\n",
              "      <td>471.77</td>\n",
              "      <td>454.86</td>\n",
              "    </tr>\n",
              "    <tr>\n",
              "      <th>std</th>\n",
              "      <td>780.35</td>\n",
              "      <td>663.05</td>\n",
              "    </tr>\n",
              "    <tr>\n",
              "      <th>min</th>\n",
              "      <td>0.00</td>\n",
              "      <td>0.00</td>\n",
              "    </tr>\n",
              "    <tr>\n",
              "      <th>25%</th>\n",
              "      <td>35.00</td>\n",
              "      <td>35.00</td>\n",
              "    </tr>\n",
              "    <tr>\n",
              "      <th>50%</th>\n",
              "      <td>210.00</td>\n",
              "      <td>210.00</td>\n",
              "    </tr>\n",
              "    <tr>\n",
              "      <th>75%</th>\n",
              "      <td>568.93</td>\n",
              "      <td>568.93</td>\n",
              "    </tr>\n",
              "    <tr>\n",
              "      <th>95%</th>\n",
              "      <td>1863.05</td>\n",
              "      <td>1863.05</td>\n",
              "    </tr>\n",
              "    <tr>\n",
              "      <th>99%</th>\n",
              "      <td>3672.06</td>\n",
              "      <td>3600.00</td>\n",
              "    </tr>\n",
              "    <tr>\n",
              "      <th>max</th>\n",
              "      <td>10777.83</td>\n",
              "      <td>3600.00</td>\n",
              "    </tr>\n",
              "  </tbody>\n",
              "</table>\n",
              "</div>\n",
              "      <button class=\"colab-df-convert\" onclick=\"convertToInteractive('df-c95faaeb-621c-4993-8df6-ea0069080977')\"\n",
              "              title=\"Convert this dataframe to an interactive table.\"\n",
              "              style=\"display:none;\">\n",
              "        \n",
              "  <svg xmlns=\"http://www.w3.org/2000/svg\" height=\"24px\"viewBox=\"0 0 24 24\"\n",
              "       width=\"24px\">\n",
              "    <path d=\"M0 0h24v24H0V0z\" fill=\"none\"/>\n",
              "    <path d=\"M18.56 5.44l.94 2.06.94-2.06 2.06-.94-2.06-.94-.94-2.06-.94 2.06-2.06.94zm-11 1L8.5 8.5l.94-2.06 2.06-.94-2.06-.94L8.5 2.5l-.94 2.06-2.06.94zm10 10l.94 2.06.94-2.06 2.06-.94-2.06-.94-.94-2.06-.94 2.06-2.06.94z\"/><path d=\"M17.41 7.96l-1.37-1.37c-.4-.4-.92-.59-1.43-.59-.52 0-1.04.2-1.43.59L10.3 9.45l-7.72 7.72c-.78.78-.78 2.05 0 2.83L4 21.41c.39.39.9.59 1.41.59.51 0 1.02-.2 1.41-.59l7.78-7.78 2.81-2.81c.8-.78.8-2.07 0-2.86zM5.41 20L4 18.59l7.72-7.72 1.47 1.35L5.41 20z\"/>\n",
              "  </svg>\n",
              "      </button>\n",
              "      \n",
              "  <style>\n",
              "    .colab-df-container {\n",
              "      display:flex;\n",
              "      flex-wrap:wrap;\n",
              "      gap: 12px;\n",
              "    }\n",
              "\n",
              "    .colab-df-convert {\n",
              "      background-color: #E8F0FE;\n",
              "      border: none;\n",
              "      border-radius: 50%;\n",
              "      cursor: pointer;\n",
              "      display: none;\n",
              "      fill: #1967D2;\n",
              "      height: 32px;\n",
              "      padding: 0 0 0 0;\n",
              "      width: 32px;\n",
              "    }\n",
              "\n",
              "    .colab-df-convert:hover {\n",
              "      background-color: #E2EBFA;\n",
              "      box-shadow: 0px 1px 2px rgba(60, 64, 67, 0.3), 0px 1px 3px 1px rgba(60, 64, 67, 0.15);\n",
              "      fill: #174EA6;\n",
              "    }\n",
              "\n",
              "    [theme=dark] .colab-df-convert {\n",
              "      background-color: #3B4455;\n",
              "      fill: #D2E3FC;\n",
              "    }\n",
              "\n",
              "    [theme=dark] .colab-df-convert:hover {\n",
              "      background-color: #434B5C;\n",
              "      box-shadow: 0px 1px 3px 1px rgba(0, 0, 0, 0.15);\n",
              "      filter: drop-shadow(0px 1px 2px rgba(0, 0, 0, 0.3));\n",
              "      fill: #FFFFFF;\n",
              "    }\n",
              "  </style>\n",
              "\n",
              "      <script>\n",
              "        const buttonEl =\n",
              "          document.querySelector('#df-c95faaeb-621c-4993-8df6-ea0069080977 button.colab-df-convert');\n",
              "        buttonEl.style.display =\n",
              "          google.colab.kernel.accessAllowed ? 'block' : 'none';\n",
              "\n",
              "        async function convertToInteractive(key) {\n",
              "          const element = document.querySelector('#df-c95faaeb-621c-4993-8df6-ea0069080977');\n",
              "          const dataTable =\n",
              "            await google.colab.kernel.invokeFunction('convertToInteractive',\n",
              "                                                     [key], {});\n",
              "          if (!dataTable) return;\n",
              "\n",
              "          const docLinkHtml = 'Like what you see? Visit the ' +\n",
              "            '<a target=\"_blank\" href=https://colab.research.google.com/notebooks/data_table.ipynb>data table notebook</a>'\n",
              "            + ' to learn more about interactive tables.';\n",
              "          element.innerHTML = '';\n",
              "          dataTable['output_type'] = 'display_data';\n",
              "          await google.colab.output.renderOutput(dataTable, element);\n",
              "          const docLink = document.createElement('div');\n",
              "          docLink.innerHTML = docLinkHtml;\n",
              "          element.appendChild(docLink);\n",
              "        }\n",
              "      </script>\n",
              "    </div>\n",
              "  </div>\n",
              "  "
            ],
            "text/plain": [
              "       PAG_MINW  PAG_MINW_trunc\n",
              "count   5334.00         5334.00\n",
              "mean     471.77          454.86\n",
              "std      780.35          663.05\n",
              "min        0.00            0.00\n",
              "25%       35.00           35.00\n",
              "50%      210.00          210.00\n",
              "75%      568.93          568.93\n",
              "95%     1863.05         1863.05\n",
              "99%     3672.06         3600.00\n",
              "max    10777.83         3600.00"
            ]
          },
          "metadata": {},
          "execution_count": 23
        }
      ]
    },
    {
      "cell_type": "markdown",
      "metadata": {
        "id": "7Vtsxc27mcqf"
      },
      "source": [
        "Podemos transformar a variável PAG_MINW em horas:"
      ]
    },
    {
      "cell_type": "code",
      "metadata": {
        "id": "Vo-V1FK0mkmP"
      },
      "source": [
        "db2[\"PAG_HRW\"] = db2[\"PAG_MINW_trunc\"]/60"
      ],
      "execution_count": null,
      "outputs": []
    },
    {
      "cell_type": "code",
      "metadata": {
        "colab": {
          "base_uri": "https://localhost:8080/",
          "height": 1000
        },
        "id": "VUe8a2h2laMe",
        "outputId": "40e6cd67-82a8-40eb-b336-c4f7dff2376d"
      },
      "source": [
        "sns.displot(db2, x=\"RIDAGEYR\", kde=True)\n",
        "sns.displot(db2, x=\"INDFMINC\", kde=True)\n",
        "sns.displot(db2, x=\"PAG_MINW_trunc\", kde=True)\n",
        "sns.displot(db2, x=\"PAG_HRW\", kde=True)\n",
        "plt.show()"
      ],
      "execution_count": null,
      "outputs": [
        {
          "output_type": "display_data",
          "data": {
            "image/png": "[encoded data removed]",
            "text/plain": [
              "<Figure size 360x360 with 1 Axes>"
            ]
          },
          "metadata": {
            "needs_background": "light"
          }
        },
        {
          "output_type": "display_data",
          "data": {
            "image/png": "[encoded data removed]",
            "text/plain": [
              "<Figure size 360x360 with 1 Axes>"
            ]
          },
          "metadata": {
            "needs_background": "light"
          }
        },
        {
          "output_type": "display_data",
          "data": {
            "image/png": "[encoded data removed]",
            "text/plain": [
              "<Figure size 360x360 with 1 Axes>"
            ]
          },
          "metadata": {
            "needs_background": "light"
          }
        },
        {
          "output_type": "display_data",
          "data": {
            "image/png": "[encoded data removed]",
            "text/plain": [
              "<Figure size 360x360 with 1 Axes>"
            ]
          },
          "metadata": {
            "needs_background": "light"
          }
        }
      ]
    },
    {
      "cell_type": "markdown",
      "metadata": {
        "id": "Wf-dFF_ixa_t"
      },
      "source": [
        "Como a variável PAG_HRW é bastante assimétrica, podemos também criar uma versão com o log:"
      ]
    },
    {
      "cell_type": "code",
      "metadata": {
        "id": "sK-oj8m_xkeM"
      },
      "source": [
        "db2[\"PAG_HRW_log\"] = np.log(db2[\"PAG_HRW\"] + 1)"
      ],
      "execution_count": null,
      "outputs": []
    },
    {
      "cell_type": "code",
      "metadata": {
        "colab": {
          "base_uri": "https://localhost:8080/",
          "height": 389
        },
        "id": "ERF_CJq1yE_R",
        "outputId": "a32eeb09-7e1f-4aab-d093-dd1ea27a5ff4"
      },
      "source": [
        "sns.displot(db2, x=\"PAG_HRW_log\", kde=True)\n",
        "plt.show()"
      ],
      "execution_count": null,
      "outputs": [
        {
          "output_type": "display_data",
          "data": {
            "image/png": "[encoded data removed]",
            "text/plain": [
              "<Figure size 360x360 with 1 Axes>"
            ]
          },
          "metadata": {
            "needs_background": "light"
          }
        }
      ]
    },
    {
      "cell_type": "markdown",
      "metadata": {
        "id": "QQ2ThpG8WQBu"
      },
      "source": [
        "Construindo função para construir gráficos de barras:"
      ]
    },
    {
      "cell_type": "code",
      "metadata": {
        "id": "jEz_YOepH_h6"
      },
      "source": [
        "# Função para construir gráfico de barras\n",
        "\n",
        "def grafico_barras_prop(data, variable):\n",
        "    (data[[variable]]\n",
        "     .value_counts(normalize=True, sort = False)\n",
        "     .rename(\"Proportion\")\n",
        "     .reset_index()\n",
        "     .pipe((sns.barplot, \"data\"), x=variable, y=\"Proportion\"))\n",
        "    plt.ylim(0,1)\n",
        "    plt.show()"
      ],
      "execution_count": null,
      "outputs": []
    },
    {
      "cell_type": "code",
      "metadata": {
        "id": "rOIJzpWOH_h7",
        "colab": {
          "base_uri": "https://localhost:8080/",
          "height": 303
        },
        "outputId": "1943f8c6-a08c-42b0-ed22-2cd2f50da3e0"
      },
      "source": [
        "grafico_barras_prop(db2.replace(label_quali), variable = \"RIAGENDR\")"
      ],
      "execution_count": null,
      "outputs": [
        {
          "output_type": "display_data",
          "data": {
            "image/png": "[encoded data removed]",
            "text/plain": [
              "<Figure size 432x288 with 1 Axes>"
            ]
          },
          "metadata": {
            "needs_background": "light"
          }
        }
      ]
    },
    {
      "cell_type": "code",
      "metadata": {
        "id": "gGGsHfnzH_h7",
        "colab": {
          "base_uri": "https://localhost:8080/",
          "height": 316
        },
        "outputId": "f566a256-3692-41b5-df93-9153584ef732"
      },
      "source": [
        "grafico_barras_prop(db2.replace(label_quali), \n",
        "                    variable = \"RIDRETH1\")"
      ],
      "execution_count": null,
      "outputs": [
        {
          "output_type": "display_data",
          "data": {
            "image/png": "[encoded data removed]",
            "text/plain": [
              "<Figure size 432x288 with 1 Axes>"
            ]
          },
          "metadata": {
            "needs_background": "light"
          }
        }
      ]
    },
    {
      "cell_type": "code",
      "metadata": {
        "id": "aq6ZPJ8yH_h7",
        "colab": {
          "base_uri": "https://localhost:8080/",
          "height": 315
        },
        "outputId": "6dbc5ef1-4030-4eba-9a9d-26cf31a9d2fb"
      },
      "source": [
        "grafico_barras_prop(db2.replace(label_quali), \n",
        "                    variable = \"DMDEDUC\")"
      ],
      "execution_count": null,
      "outputs": [
        {
          "output_type": "display_data",
          "data": {
            "image/png": "[encoded data removed]",
            "text/plain": [
              "<Figure size 432x288 with 1 Axes>"
            ]
          },
          "metadata": {
            "needs_background": "light"
          }
        }
      ]
    },
    {
      "cell_type": "code",
      "metadata": {
        "id": "648_jPa9H_h7",
        "colab": {
          "base_uri": "https://localhost:8080/",
          "height": 303
        },
        "outputId": "c16c5387-063f-4f98-b38d-659e93c9ab3b"
      },
      "source": [
        "grafico_barras_prop(db2.replace(label_quali), \n",
        "                    variable = \"ADHERENCE\")"
      ],
      "execution_count": null,
      "outputs": [
        {
          "output_type": "display_data",
          "data": {
            "image/png": "[encoded data removed]",
            "text/plain": [
              "<Figure size 432x288 with 1 Axes>"
            ]
          },
          "metadata": {
            "needs_background": "light"
          }
        }
      ]
    },
    {
      "cell_type": "code",
      "metadata": {
        "id": "5uygAgo5H_h7",
        "colab": {
          "base_uri": "https://localhost:8080/",
          "height": 316
        },
        "outputId": "389b5e05-c857-4776-a4eb-7fd0c586ae92"
      },
      "source": [
        "grafico_barras_prop(db2.replace(label_quali), \n",
        "                    variable = \"phq_grp2\")"
      ],
      "execution_count": null,
      "outputs": [
        {
          "output_type": "display_data",
          "data": {
            "image/png": "[encoded data removed]",
            "text/plain": [
              "<Figure size 432x288 with 1 Axes>"
            ]
          },
          "metadata": {
            "needs_background": "light"
          }
        }
      ]
    },
    {
      "cell_type": "markdown",
      "metadata": {
        "id": "uIRh8GHDXIde"
      },
      "source": [
        "## EDA: Análise Bivariada + Teste de Hipóteses"
      ]
    },
    {
      "cell_type": "markdown",
      "metadata": {
        "id": "bk7SVveHYAxh"
      },
      "source": [
        "Função para construir gráficos boxplot para uma variável quantitativa versus grupo de depressão"
      ]
    },
    {
      "cell_type": "code",
      "metadata": {
        "id": "ePOnUpguH_h7"
      },
      "source": [
        "# Função para construir boxplot\n",
        "\n",
        "def grafico_boxplot_grp(data, variable, label):\n",
        "    \n",
        "    if label == \"\": label = variable\n",
        "    sns.boxplot(x=\"phq_grp2\", y=variable, data=data)\n",
        "    plt.ylabel(label)\n",
        "    plt.show()"
      ],
      "execution_count": null,
      "outputs": []
    },
    {
      "cell_type": "markdown",
      "metadata": {
        "id": "6lDGqRogcOxQ"
      },
      "source": [
        "### A) Perfil com maiores incidências de sintomas de depressão"
      ]
    },
    {
      "cell_type": "code",
      "metadata": {
        "colab": {
          "base_uri": "https://localhost:8080/",
          "height": 312
        },
        "id": "Gnw3f-56cLiw",
        "outputId": "a867ca18-7a75-465b-81b4-5a0424432eb1"
      },
      "source": [
        "grafico_boxplot_grp(db2.replace(label_quali), \"RIDAGEYR\", \"Idade\")"
      ],
      "execution_count": null,
      "outputs": [
        {
          "output_type": "display_data",
          "data": {
            "image/png": "[encoded data removed]",
            "text/plain": [
              "<Figure size 432x288 with 1 Axes>"
            ]
          },
          "metadata": {
            "needs_background": "light"
          }
        }
      ]
    },
    {
      "cell_type": "markdown",
      "source": [
        "Teste de hipóteses:\n",
        "\n",
        "Neste caso queremos comparar a média de idade para os três grupos de sintomas de depressão. Sendo assim, o teste F da ANOVA será utilizado. Neste teste, decidimos entre a hipótese nula \"Não existe diferença entre os grupos de depressão com relação à média de idade\" e a hipótese alternativa \"Existe pelo menos uma diferença na média de idade entre os grupos de sintomas de depressão\"."
      ],
      "metadata": {
        "id": "_jDHNL_H7qU6"
      }
    },
    {
      "cell_type": "code",
      "source": [
        "from scipy.stats import f_oneway\n",
        "\n",
        "db_aux = db2[[\"phq_grp2\", \"RIDAGEYR\"]].dropna()\n",
        "\n",
        "stat, p = f_oneway(db_aux[(db_aux.phq_grp2 == 0)][\"RIDAGEYR\"],\n",
        "                   db_aux[(db_aux.phq_grp2 == 1)][\"RIDAGEYR\"],\n",
        "                   db_aux[(db_aux.phq_grp2 == 2)][\"RIDAGEYR\"])\n",
        "\n",
        "print('stat=%.3f, p=%.3f' % (stat, p))"
      ],
      "metadata": {
        "colab": {
          "base_uri": "https://localhost:8080/"
        },
        "id": "xzP0XnQz3R6K",
        "outputId": "93d0dec4-9a62-4d8b-fd95-9f5874424358"
      },
      "execution_count": null,
      "outputs": [
        {
          "output_type": "stream",
          "name": "stdout",
          "text": [
            "stat=1.002, p=0.367\n"
          ]
        }
      ]
    },
    {
      "cell_type": "markdown",
      "source": [
        "O valor-p do teste foi p = 0.367. Interpretação do valor-p: Se a hipótese nula fosse verdadeira, qual a probabilidade de observarmos as diferenças que estamos observando na amostra?\n",
        "\n",
        "Neste caso, a probabilidade é alta (p = 0.367), ou seja, o que estamos observando na amostra é algo bem provável de ocorrer se a hipótese nula for verdadeira e, portanto, não temos indícios para rejeitar a hipótese nula. Sendo assim, não conseguimos detectar uma diferença estatisticamente significativa entre os grupos de depressão com relação à media de idade."
      ],
      "metadata": {
        "id": "syT-8in9qi2F"
      }
    },
    {
      "cell_type": "code",
      "metadata": {
        "id": "rWpBSLoXH_h8",
        "colab": {
          "base_uri": "https://localhost:8080/",
          "height": 312
        },
        "outputId": "27dac50e-3fdc-4724-875c-2ec93527963d"
      },
      "source": [
        "grafico_boxplot_grp(db2.replace(label_quali), \"INDFMINC\", \"Renda Anual Familiar (US$)\")"
      ],
      "execution_count": null,
      "outputs": [
        {
          "output_type": "display_data",
          "data": {
            "image/png": "[encoded data removed]",
            "text/plain": [
              "<Figure size 432x288 with 1 Axes>"
            ]
          },
          "metadata": {
            "needs_background": "light"
          }
        }
      ]
    },
    {
      "cell_type": "markdown",
      "source": [
        "Teste de hipóteses:"
      ],
      "metadata": {
        "id": "2fCzuuS07x7u"
      }
    },
    {
      "cell_type": "code",
      "source": [
        "from scipy.stats import f_oneway\n",
        "\n",
        "db_aux = db2[[\"phq_grp2\", \"INDFMINC\"]].dropna()\n",
        "\n",
        "stat, p = f_oneway(db_aux[(db_aux.phq_grp2 == 0)][\"INDFMINC\"],\n",
        "                   db_aux[(db_aux.phq_grp2 == 1)][\"INDFMINC\"],\n",
        "                   db_aux[(db_aux.phq_grp2 == 2)][\"INDFMINC\"])\n",
        "\n",
        "print('stat=%.3f, p=%.3f' % (stat, p))"
      ],
      "metadata": {
        "colab": {
          "base_uri": "https://localhost:8080/"
        },
        "id": "-aCC7Vn77zsd",
        "outputId": "0a58163f-cda2-4098-e21b-73b54729ee8d"
      },
      "execution_count": null,
      "outputs": [
        {
          "output_type": "stream",
          "name": "stdout",
          "text": [
            "stat=50.376, p=0.000\n"
          ]
        }
      ]
    },
    {
      "cell_type": "markdown",
      "source": [
        "Neste caso estamos testando a hipótese nula \"Não existe diferença entre os grupos de depressão com relação à renda média\". Como p < 0.05, temos que a probabilidade de observarmos o que estamos observando nesta amostra é baixa (próxima de zero) se a hipótese nula fosse verdadeira. Neste caso, temos indícios de que a hipótese nula não é verdadeira (rejeitamos a hipótese nula).\n",
        "\n",
        "Como o teste F apenas nos informa que existe pelo menos uma diferença entre os grupos de sintomas com relação a renda média, iremos realizar comparações multiplas para investigar quais diferenças são signiticativas:"
      ],
      "metadata": {
        "id": "Pxec3t11rUDk"
      }
    },
    {
      "cell_type": "code",
      "source": [
        "from statsmodels.stats.multicomp import pairwise_tukeyhsd\n",
        "\n",
        "tukey = pairwise_tukeyhsd(db_aux['INDFMINC'],\n",
        "                  db_aux['phq_grp2'],\n",
        "                  alpha = 0.05)\n",
        "\n",
        "print(tukey)"
      ],
      "metadata": {
        "colab": {
          "base_uri": "https://localhost:8080/"
        },
        "id": "lOH1CkUF8KyR",
        "outputId": "f6e0d5a7-35a7-405c-a3af-c5dbd1141e24"
      },
      "execution_count": null,
      "outputs": [
        {
          "output_type": "stream",
          "name": "stdout",
          "text": [
            "     Multiple Comparison of Means - Tukey HSD, FWER=0.05      \n",
            "==============================================================\n",
            "group1 group2   meandiff  p-adj    lower       upper    reject\n",
            "--------------------------------------------------------------\n",
            "   0.0    1.0  -5537.0284 0.001  -8305.9614  -2768.0954   True\n",
            "   0.0    2.0 -13537.8408 0.001 -16971.2327 -10104.4489   True\n",
            "   1.0    2.0  -8000.8124 0.001 -12223.0265  -3778.5983   True\n",
            "--------------------------------------------------------------\n"
          ]
        },
        {
          "output_type": "stream",
          "name": "stderr",
          "text": [
            "/usr/local/lib/python3.7/dist-packages/statsmodels/tools/_testing.py:19: FutureWarning: pandas.util.testing is deprecated. Use the functions in the public API at pandas.testing instead.\n",
            "  import pandas.util.testing as tm\n"
          ]
        }
      ]
    },
    {
      "cell_type": "markdown",
      "source": [
        "Com as comparações múltiplas, estamos realizando três testes de hipótese **simultaneamente**. Por conta disso, a função ajusta o valor-p para que o erro máximo desde conjunto de teste de hipóteses seja no máximo alpha = 0.05. \n",
        "\n",
        "Teste 1: Grupo 0 (Sem sintomas) x Grupo 1 (sintomas leves) -> p = 0.001\n",
        "\n",
        "Teste 2: Grupo 0 (Sem sintomas) x Grupo 2 (sintomas moderados-severos) -> p = 0.001\n",
        "\n",
        "Teste 3: Grupo 1 (sintomas leves) x Grupo 2 (sintomas moderados-severos) -> p = 0.001\n",
        "\n",
        "Neste caso, rejeitamos todas as hipóteses nulas. Sendo assim, temos indícios de que:\n",
        "\n",
        "1. A renda média do grupo Sem sintomas é diferente da renda média do grupo de sintomas leves\n",
        "2. A renda média do grupo Sem sintomas é diferente da renda média do grupo de sintomas moderados-severos\n",
        "3. A renda média do grupo sintomas leves é diferente da renda média do grupo sintomas moderados-severos"
      ],
      "metadata": {
        "id": "QPrS06UisMay"
      }
    },
    {
      "cell_type": "code",
      "metadata": {
        "id": "rayB5yhiH_h8",
        "colab": {
          "base_uri": "https://localhost:8080/",
          "height": 312
        },
        "outputId": "2771c73e-be96-4e79-fb16-ef18262e6a36"
      },
      "source": [
        "grafico_boxplot_grp(db2.replace(label_quali), \"PAG_HRW_log\", \"Log Atividade Física (h/semana)\")"
      ],
      "execution_count": null,
      "outputs": [
        {
          "output_type": "display_data",
          "data": {
            "image/png": "[encoded data removed]",
            "text/plain": [
              "<Figure size 432x288 with 1 Axes>"
            ]
          },
          "metadata": {
            "needs_background": "light"
          }
        }
      ]
    },
    {
      "cell_type": "code",
      "source": [
        "from scipy.stats import f_oneway\n",
        "\n",
        "db_aux = db2[[\"phq_grp2\", \"PAG_HRW_log\"]].dropna()\n",
        "\n",
        "stat, p = f_oneway(db_aux[(db_aux.phq_grp2 == 0)][\"PAG_HRW_log\"],\n",
        "                   db_aux[(db_aux.phq_grp2 == 1)][\"PAG_HRW_log\"],\n",
        "                   db_aux[(db_aux.phq_grp2 == 2)][\"PAG_HRW_log\"])\n",
        "\n",
        "print('stat=%.3f, p=%.3f' % (stat, p))"
      ],
      "metadata": {
        "colab": {
          "base_uri": "https://localhost:8080/"
        },
        "id": "qdyh3rCo8ULJ",
        "outputId": "94fe8f95-0d75-4b20-d864-7aa9d754f2f1"
      },
      "execution_count": null,
      "outputs": [
        {
          "output_type": "stream",
          "name": "stdout",
          "text": [
            "stat=31.185, p=0.000\n"
          ]
        }
      ]
    },
    {
      "cell_type": "code",
      "source": [
        "from statsmodels.stats.multicomp import pairwise_tukeyhsd\n",
        "\n",
        "tukey = pairwise_tukeyhsd(db_aux['PAG_HRW_log'],\n",
        "                  db_aux['phq_grp2'],\n",
        "                  alpha = 0.05)\n",
        "\n",
        "print(tukey)"
      ],
      "metadata": {
        "colab": {
          "base_uri": "https://localhost:8080/"
        },
        "id": "97GoEdHV8Z4X",
        "outputId": "fbead239-d83a-40dc-f2fd-f74a10c97343"
      },
      "execution_count": null,
      "outputs": [
        {
          "output_type": "stream",
          "name": "stdout",
          "text": [
            "Multiple Comparison of Means - Tukey HSD, FWER=0.05 \n",
            "====================================================\n",
            "group1 group2 meandiff p-adj   lower   upper  reject\n",
            "----------------------------------------------------\n",
            "   0.0    1.0  -0.1483 0.0157 -0.2739 -0.0226   True\n",
            "   0.0    2.0  -0.5119  0.001 -0.6697 -0.3542   True\n",
            "   1.0    2.0  -0.3636  0.001 -0.5566 -0.1707   True\n",
            "----------------------------------------------------\n"
          ]
        }
      ]
    },
    {
      "cell_type": "code",
      "metadata": {
        "colab": {
          "base_uri": "https://localhost:8080/",
          "height": 312
        },
        "id": "NyzMt6rpbiFg",
        "outputId": "ca2d93b7-11c2-4d68-bdda-75050da0378c"
      },
      "source": [
        "grafico_boxplot_grp(db2.replace(label_quali), \"HEI2015_TOTAL_SCORE\", \"HEI - Escore total\")"
      ],
      "execution_count": null,
      "outputs": [
        {
          "output_type": "display_data",
          "data": {
            "image/png": "[encoded data removed]",
            "text/plain": [
              "<Figure size 432x288 with 1 Axes>"
            ]
          },
          "metadata": {
            "needs_background": "light"
          }
        }
      ]
    },
    {
      "cell_type": "code",
      "source": [
        "from scipy.stats import f_oneway\n",
        "\n",
        "db_aux = db2[[\"phq_grp2\", \"HEI2015_TOTAL_SCORE\"]].dropna()\n",
        "\n",
        "stat, p = f_oneway(db_aux[(db_aux.phq_grp2 == 0)][\"HEI2015_TOTAL_SCORE\"],\n",
        "                   db_aux[(db_aux.phq_grp2 == 1)][\"HEI2015_TOTAL_SCORE\"],\n",
        "                   db_aux[(db_aux.phq_grp2 == 2)][\"HEI2015_TOTAL_SCORE\"])\n",
        "\n",
        "print('stat=%.3f, p=%.3f' % (stat, p))"
      ],
      "metadata": {
        "colab": {
          "base_uri": "https://localhost:8080/"
        },
        "id": "M4H71Vxi8haC",
        "outputId": "debc54b5-b010-4845-dd59-c64804605be8"
      },
      "execution_count": null,
      "outputs": [
        {
          "output_type": "stream",
          "name": "stdout",
          "text": [
            "stat=7.119, p=0.001\n"
          ]
        }
      ]
    },
    {
      "cell_type": "code",
      "source": [
        "from statsmodels.stats.multicomp import pairwise_tukeyhsd\n",
        "\n",
        "tukey = pairwise_tukeyhsd(db_aux['HEI2015_TOTAL_SCORE'],\n",
        "                  db_aux['phq_grp2'],\n",
        "                  alpha = 0.05)\n",
        "\n",
        "print(tukey)"
      ],
      "metadata": {
        "colab": {
          "base_uri": "https://localhost:8080/"
        },
        "id": "omkL--rB8l-Z",
        "outputId": "8169bfe1-d77d-4f3b-8825-e7cb3c79e5b6"
      },
      "execution_count": null,
      "outputs": [
        {
          "output_type": "stream",
          "name": "stdout",
          "text": [
            "Multiple Comparison of Means - Tukey HSD, FWER=0.05 \n",
            "====================================================\n",
            "group1 group2 meandiff p-adj   lower   upper  reject\n",
            "----------------------------------------------------\n",
            "   0.0    1.0  -1.1066 0.1546 -2.5111  0.2978  False\n",
            "   0.0    2.0  -2.5846 0.0017  -4.348 -0.8211   True\n",
            "   1.0    2.0  -1.4779 0.2437 -3.6364  0.6805  False\n",
            "----------------------------------------------------\n"
          ]
        }
      ]
    },
    {
      "cell_type": "markdown",
      "metadata": {
        "id": "9pHf9Dt5cdlY"
      },
      "source": [
        "### B) Perfil de hábitos saudáveis"
      ]
    },
    {
      "cell_type": "markdown",
      "metadata": {
        "id": "N83CAsjCXK_c"
      },
      "source": [
        "Alimentação saudável x Exercícios Físicos"
      ]
    },
    {
      "cell_type": "code",
      "metadata": {
        "colab": {
          "base_uri": "https://localhost:8080/",
          "height": 617
        },
        "id": "vnxkhCYdXQjy",
        "outputId": "9b479530-b79d-44d5-c4ab-2c74e1998770"
      },
      "source": [
        "sns.boxplot(y=\"ADHERENCE\", \n",
        "            x=\"HEI2015_TOTAL_SCORE\", \n",
        "            orient=\"h\",\n",
        "            data=db2.replace(label_quali))\n",
        "plt.show()\n",
        "\n",
        "fig, ax = plt.subplots(ncols=2, figsize=(15,5))\n",
        "\n",
        "sns.regplot(x = 'HEI2015_TOTAL_SCORE', \n",
        "            y = 'PAG_HRW', \n",
        "            lowess=True, \n",
        "            line_kws={'color': 'red'},\n",
        "            data = db2,\n",
        "            ax = ax[0])\n",
        "\n",
        "sns.regplot(x = 'HEI2015_TOTAL_SCORE', \n",
        "            y = 'PAG_HRW_log', \n",
        "            lowess=True, \n",
        "            line_kws={'color': 'red'},\n",
        "            data = db2,\n",
        "            ax = ax[1])\n",
        "plt.show()"
      ],
      "execution_count": null,
      "outputs": [
        {
          "output_type": "display_data",
          "data": {
            "image/png": "[encoded data removed]",
            "text/plain": [
              "<Figure size 432x288 with 1 Axes>"
            ]
          },
          "metadata": {
            "needs_background": "light"
          }
        },
        {
          "output_type": "display_data",
          "data": {
            "image/png": "[encoded data removed]",
            "text/plain": [
              "<Figure size 1080x360 with 2 Axes>"
            ]
          },
          "metadata": {
            "needs_background": "light"
          }
        }
      ]
    },
    {
      "cell_type": "code",
      "source": [
        "from scipy.stats import f_oneway\n",
        "\n",
        "db_aux = db2[[\"ADHERENCE\", \"HEI2015_TOTAL_SCORE\"]].dropna()\n",
        "\n",
        "stat, p = f_oneway(db_aux[(db_aux.ADHERENCE == 1)][\"HEI2015_TOTAL_SCORE\"],\n",
        "                   db_aux[(db_aux.ADHERENCE == 2)][\"HEI2015_TOTAL_SCORE\"],\n",
        "                   db_aux[(db_aux.ADHERENCE == 3)][\"HEI2015_TOTAL_SCORE\"])\n",
        "\n",
        "print('stat=%.3f, p=%.3f' % (stat, p))"
      ],
      "metadata": {
        "colab": {
          "base_uri": "https://localhost:8080/"
        },
        "id": "6XjeGiQN84FH",
        "outputId": "9876e965-13d2-4ce1-be92-e980f9787187"
      },
      "execution_count": null,
      "outputs": [
        {
          "output_type": "stream",
          "name": "stdout",
          "text": [
            "stat=4.122, p=0.016\n"
          ]
        }
      ]
    },
    {
      "cell_type": "code",
      "source": [
        "from statsmodels.stats.multicomp import pairwise_tukeyhsd\n",
        "\n",
        "tukey = pairwise_tukeyhsd(db_aux['HEI2015_TOTAL_SCORE'],\n",
        "                  db_aux['ADHERENCE'],\n",
        "                  alpha = 0.05)\n",
        "\n",
        "print(tukey)"
      ],
      "metadata": {
        "colab": {
          "base_uri": "https://localhost:8080/"
        },
        "id": "OantamXe9Wvx",
        "outputId": "4f7bd3dd-8ccf-43b5-a248-a5f622dbad12"
      },
      "execution_count": null,
      "outputs": [
        {
          "output_type": "stream",
          "name": "stdout",
          "text": [
            "Multiple Comparison of Means - Tukey HSD, FWER=0.05\n",
            "===================================================\n",
            "group1 group2 meandiff p-adj   lower  upper  reject\n",
            "---------------------------------------------------\n",
            "   1.0    2.0   0.3937 0.7031  -0.805 1.5924  False\n",
            "   1.0    3.0   1.0773  0.012  0.1931 1.9616   True\n",
            "   2.0    3.0   0.6837  0.378 -0.5186 1.8859  False\n",
            "---------------------------------------------------\n"
          ]
        }
      ]
    },
    {
      "cell_type": "markdown",
      "metadata": {
        "id": "qfRG4GAIhLJ0"
      },
      "source": [
        "Hábitos saudáveis x Gênero"
      ]
    },
    {
      "cell_type": "code",
      "metadata": {
        "colab": {
          "base_uri": "https://localhost:8080/",
          "height": 671
        },
        "id": "Ct7EML0yhX_O",
        "outputId": "ea5e96d7-c80f-4aaa-c279-abde9cc22955"
      },
      "source": [
        "plt.figure(figsize=(7,5))\n",
        "sns.boxplot(x=\"RIAGENDR\", \n",
        "            y=\"HEI2015_TOTAL_SCORE\", \n",
        "            data=db2.replace(label_quali))\n",
        "plt.show()\n",
        "\n",
        "fig, ax = plt.subplots(ncols=2, figsize=(15,5))\n",
        "sns.boxplot(x=\"RIAGENDR\", \n",
        "            y=\"PAG_HRW\", \n",
        "            data=db2.replace(label_quali),\n",
        "            ax = ax[0])\n",
        "\n",
        "sns.boxplot(x=\"RIAGENDR\", \n",
        "            y=\"PAG_HRW_log\", \n",
        "            data=db2.replace(label_quali),\n",
        "            ax = ax[1])\n",
        "plt.show()"
      ],
      "execution_count": null,
      "outputs": [
        {
          "output_type": "display_data",
          "data": {
            "image/png": "[encoded data removed]",
            "text/plain": [
              "<Figure size 504x360 with 1 Axes>"
            ]
          },
          "metadata": {
            "needs_background": "light"
          }
        },
        {
          "output_type": "display_data",
          "data": {
            "image/png": "[encoded data removed]",
            "text/plain": [
              "<Figure size 1080x360 with 2 Axes>"
            ]
          },
          "metadata": {
            "needs_background": "light"
          }
        }
      ]
    },
    {
      "cell_type": "code",
      "source": [
        "from scipy.stats import f_oneway\n",
        "\n",
        "db_aux = db2[[\"RIAGENDR\", \"PAG_HRW\", \"PAG_HRW_log\", \"HEI2015_TOTAL_SCORE\"]].dropna()\n",
        "\n",
        "stat, p = f_oneway(db_aux[(db_aux.RIAGENDR == 1)][\"HEI2015_TOTAL_SCORE\"],\n",
        "                   db_aux[(db_aux.RIAGENDR == 2)][\"HEI2015_TOTAL_SCORE\"])\n",
        "\n",
        "print('stat=%.3f, p=%.3f' % (stat, p))"
      ],
      "metadata": {
        "colab": {
          "base_uri": "https://localhost:8080/"
        },
        "id": "ftEDSuaA-Gev",
        "outputId": "55b34c0e-a5a0-4cab-e12d-f32162760a0d"
      },
      "execution_count": null,
      "outputs": [
        {
          "output_type": "stream",
          "name": "stdout",
          "text": [
            "stat=27.216, p=0.000\n"
          ]
        }
      ]
    },
    {
      "cell_type": "code",
      "source": [
        "from scipy.stats import f_oneway\n",
        "\n",
        "db_aux = db2[[\"RIAGENDR\", \"PAG_HRW\", \"PAG_HRW_log\", \"HEI2015_TOTAL_SCORE\"]].dropna()\n",
        "\n",
        "stat, p = f_oneway(db_aux[(db_aux.RIAGENDR == 1)][\"PAG_HRW_log\"],\n",
        "                   db_aux[(db_aux.RIAGENDR == 2)][\"PAG_HRW_log\"])\n",
        "\n",
        "print('stat=%.3f, p=%.3f' % (stat, p))"
      ],
      "metadata": {
        "id": "y5mNgMQ2-WQz",
        "colab": {
          "base_uri": "https://localhost:8080/"
        },
        "outputId": "8e4d0abd-f98c-48b2-ec16-e10b3d1367b1"
      },
      "execution_count": null,
      "outputs": [
        {
          "output_type": "stream",
          "name": "stdout",
          "text": [
            "stat=50.329, p=0.000\n"
          ]
        }
      ]
    },
    {
      "cell_type": "markdown",
      "source": [
        "Hábitos saudáveis e Raça"
      ],
      "metadata": {
        "id": "Ed2utcoz-t65"
      }
    },
    {
      "cell_type": "code",
      "metadata": {
        "colab": {
          "base_uri": "https://localhost:8080/",
          "height": 695
        },
        "id": "EAlt0-htvZAv",
        "outputId": "f9e02a4d-94c7-44ca-baa3-bd4034432163"
      },
      "source": [
        "plt.figure(figsize=(7,5))\n",
        "sns.boxplot(x=\"RIDRETH1\", \n",
        "            y=\"HEI2015_TOTAL_SCORE\", \n",
        "            data=db2.replace(label_quali))\n",
        "plt.show()\n",
        "\n",
        "fig, ax = plt.subplots(ncols=2, figsize=(15,5))\n",
        "sns.boxplot(x=\"RIDRETH1\", \n",
        "            y=\"PAG_HRW\", \n",
        "            data=db2.replace(label_quali),\n",
        "            ax = ax[0])\n",
        "\n",
        "sns.boxplot(x=\"RIDRETH1\", \n",
        "            y=\"PAG_HRW_log\", \n",
        "            data=db2.replace(label_quali),\n",
        "            ax = ax[1])\n",
        "plt.show()"
      ],
      "execution_count": null,
      "outputs": [
        {
          "output_type": "display_data",
          "data": {
            "image/png": "[encoded data removed]",
            "text/plain": [
              "<Figure size 504x360 with 1 Axes>"
            ]
          },
          "metadata": {
            "needs_background": "light"
          }
        },
        {
          "output_type": "display_data",
          "data": {
            "image/png": "[encoded data removed]",
            "text/plain": [
              "<Figure size 1080x360 with 2 Axes>"
            ]
          },
          "metadata": {
            "needs_background": "light"
          }
        }
      ]
    },
    {
      "cell_type": "code",
      "source": [
        "from scipy.stats import f_oneway\n",
        "\n",
        "db_aux = db2[[\"RIDRETH1\", \"PAG_HRW\", \"PAG_HRW_log\", \"HEI2015_TOTAL_SCORE\"]].dropna()\n",
        "\n",
        "stat, p = f_oneway(db_aux[(db_aux.RIDRETH1 == 1)][\"HEI2015_TOTAL_SCORE\"],\n",
        "                   db_aux[(db_aux.RIDRETH1 == 2)][\"HEI2015_TOTAL_SCORE\"],\n",
        "                   db_aux[(db_aux.RIDRETH1 == 3)][\"HEI2015_TOTAL_SCORE\"],\n",
        "                   db_aux[(db_aux.RIDRETH1 == 4)][\"HEI2015_TOTAL_SCORE\"])\n",
        "\n",
        "print('stat=%.3f, p=%.3f' % (stat, p))"
      ],
      "metadata": {
        "colab": {
          "base_uri": "https://localhost:8080/"
        },
        "id": "JnrEmTLz-01R",
        "outputId": "52a4fb02-63ad-4c27-9b81-8994db87e4a2"
      },
      "execution_count": null,
      "outputs": [
        {
          "output_type": "stream",
          "name": "stdout",
          "text": [
            "stat=11.860, p=0.000\n"
          ]
        }
      ]
    },
    {
      "cell_type": "code",
      "source": [
        "from statsmodels.stats.multicomp import pairwise_tukeyhsd\n",
        "\n",
        "tukey = pairwise_tukeyhsd(db_aux['HEI2015_TOTAL_SCORE'],\n",
        "                  db_aux['RIDRETH1'],\n",
        "                  alpha = 0.05)\n",
        "\n",
        "print(tukey)"
      ],
      "metadata": {
        "colab": {
          "base_uri": "https://localhost:8080/"
        },
        "id": "lHsdPSMs--x9",
        "outputId": "f05e8bad-b2df-4e68-dbb3-c8a9be0cfefe"
      },
      "execution_count": null,
      "outputs": [
        {
          "output_type": "stream",
          "name": "stdout",
          "text": [
            "Multiple Comparison of Means - Tukey HSD, FWER=0.05 \n",
            "====================================================\n",
            "group1 group2 meandiff p-adj   lower   upper  reject\n",
            "----------------------------------------------------\n",
            "     1      2   -0.964  0.556 -2.8709   0.943  False\n",
            "     1      3  -1.0955 0.0718 -2.2542  0.0632  False\n",
            "     1      4  -2.9767  0.001 -4.2992 -1.6541   True\n",
            "     2      3  -0.1315    0.9 -1.8988  1.6357  False\n",
            "     2      4  -2.0127 0.0302 -3.8914  -0.134   True\n",
            "     3      4  -1.8812  0.001 -2.9928 -0.7696   True\n",
            "----------------------------------------------------\n"
          ]
        }
      ]
    },
    {
      "cell_type": "code",
      "source": [
        "from scipy.stats import f_oneway\n",
        "\n",
        "stat, p = f_oneway(db_aux[(db_aux.RIDRETH1 == 1)][\"PAG_HRW_log\"],\n",
        "                   db_aux[(db_aux.RIDRETH1 == 2)][\"PAG_HRW_log\"],\n",
        "                   db_aux[(db_aux.RIDRETH1 == 3)][\"PAG_HRW_log\"],\n",
        "                   db_aux[(db_aux.RIDRETH1 == 4)][\"PAG_HRW_log\"])\n",
        "\n",
        "print('stat=%.3f, p=%.3f' % (stat, p))"
      ],
      "metadata": {
        "colab": {
          "base_uri": "https://localhost:8080/"
        },
        "id": "UkdS9I_3_ILs",
        "outputId": "bba796ea-8eed-4f88-9427-a96a972ac1fb"
      },
      "execution_count": null,
      "outputs": [
        {
          "output_type": "stream",
          "name": "stdout",
          "text": [
            "stat=25.845, p=0.000\n"
          ]
        }
      ]
    },
    {
      "cell_type": "code",
      "source": [
        "from statsmodels.stats.multicomp import pairwise_tukeyhsd\n",
        "\n",
        "tukey = pairwise_tukeyhsd(db_aux['PAG_HRW_log'],\n",
        "                  db_aux['RIDRETH1'],\n",
        "                  alpha = 0.05)\n",
        "\n",
        "print(tukey)"
      ],
      "metadata": {
        "colab": {
          "base_uri": "https://localhost:8080/"
        },
        "id": "KNALM-iO_MgH",
        "outputId": "fdb64653-c2c3-43c2-c660-8f8cacffe2a9"
      },
      "execution_count": null,
      "outputs": [
        {
          "output_type": "stream",
          "name": "stdout",
          "text": [
            "Multiple Comparison of Means - Tukey HSD, FWER=0.05 \n",
            "====================================================\n",
            "group1 group2 meandiff p-adj   lower   upper  reject\n",
            "----------------------------------------------------\n",
            "     1      2   0.3757  0.001  0.2016  0.5499   True\n",
            "     1      3   0.3502  0.001  0.2444   0.456   True\n",
            "     1      4    0.229  0.001  0.1082  0.3498   True\n",
            "     2      3  -0.0255    0.9 -0.1869  0.1359  False\n",
            "     2      4  -0.1467 0.1241 -0.3183  0.0248  False\n",
            "     3      4  -0.1212 0.0116 -0.2227 -0.0197   True\n",
            "----------------------------------------------------\n"
          ]
        }
      ]
    }
  ]
}